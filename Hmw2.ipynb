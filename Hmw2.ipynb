{
 "cells": [
  {
   "cell_type": "markdown",
   "metadata": {
    "id": "tBrDXMdDy-Qn"
   },
   "source": [
    "# HSE 2023: Введение в машинное обучение БИ 22/23\n",
    "\n",
    "## ДЗ 2"
   ]
  },
  {
   "cell_type": "markdown",
   "metadata": {
    "id": "RXXi5K1mf41d"
   },
   "source": [
    "# Внимание!\n",
    "Если в задании просят объяснить что-либо, то это значит, что требуется письменный ответ, который является частью задания и оценивается\n",
    "\n",
    "Мы только принимаем ipynb ноутбуки. Если вы используете Google Colab, то вам необходимо скачать ноутбук перед сдачей ДЗ\n"
   ]
  },
  {
   "cell_type": "code",
   "execution_count": 9,
   "metadata": {
    "ExecuteTime": {
     "end_time": "2020-09-26T16:48:20.566549Z",
     "start_time": "2020-09-26T16:48:19.893995Z"
    },
    "id": "mSR-a9vVy-Qp"
   },
   "outputs": [],
   "source": [
    "import pandas as pd\n",
    "import numpy as np\n",
    "import matplotlib.pyplot as plt\n",
    "import seaborn as sns\n",
    "import sklearn\n",
    "from sklearn import datasets\n",
    "from sklearn.datasets import load_boston\n",
    "from sklearn.model_selection import GridSearchCV\n",
    "from sklearn.model_selection import train_test_split\n",
    "from sklearn.linear_model import Ridge\n",
    "from sklearn.preprocessing import StandardScaler, LabelEncoder\n",
    "from sklearn.linear_model import LinearRegression, Ridge, Lasso, ElasticNet\n",
    "from sklearn.metrics import mean_squared_error, r2_score\n",
    "import statsmodels.api as sm\n",
    "from statsmodels.regression.linear_model import OLSResults\n",
    "from math import sqrt\n",
    "import random\n",
    "import sys\n",
    "\n",
    "import warnings\n",
    "warnings.filterwarnings(\"ignore\")\n",
    "\n",
    "%matplotlib inline\n",
    "\n",
    "sns.set(style=\"darkgrid\")"
   ]
  },
  {
   "cell_type": "markdown",
   "metadata": {
    "id": "HUjuv9Qty-Qq"
   },
   "source": [
    "### Данные\n",
    "\n",
    "Для этого ДЗ мы будем использовать датасет по ценам бриллиантов из seaborn"
   ]
  },
  {
   "cell_type": "code",
   "execution_count": 10,
   "metadata": {
    "id": "tHWSWTXDy-Qq"
   },
   "outputs": [],
   "source": [
    "data = sns.load_dataset('diamonds')\n",
    "\n",
    "y = data.price\n",
    "x = data.drop(['price'], axis=1)\n",
    "columns = data.drop(['price'], axis=1).columns"
   ]
  },
  {
   "cell_type": "code",
   "execution_count": 11,
   "metadata": {},
   "outputs": [
    {
     "name": "stdout",
     "output_type": "stream",
     "text": [
      "<class 'pandas.core.frame.DataFrame'>\n",
      "RangeIndex: 53940 entries, 0 to 53939\n",
      "Data columns (total 10 columns):\n",
      " #   Column   Non-Null Count  Dtype   \n",
      "---  ------   --------------  -----   \n",
      " 0   carat    53940 non-null  float64 \n",
      " 1   cut      53940 non-null  category\n",
      " 2   color    53940 non-null  category\n",
      " 3   clarity  53940 non-null  category\n",
      " 4   depth    53940 non-null  float64 \n",
      " 5   table    53940 non-null  float64 \n",
      " 6   price    53940 non-null  int64   \n",
      " 7   x        53940 non-null  float64 \n",
      " 8   y        53940 non-null  float64 \n",
      " 9   z        53940 non-null  float64 \n",
      "dtypes: category(3), float64(6), int64(1)\n",
      "memory usage: 3.0 MB\n"
     ]
    }
   ],
   "source": [
    "data.info()"
   ]
  },
  {
   "cell_type": "code",
   "execution_count": 12,
   "metadata": {},
   "outputs": [
    {
     "data": {
      "text/html": [
       "<div>\n",
       "<style scoped>\n",
       "    .dataframe tbody tr th:only-of-type {\n",
       "        vertical-align: middle;\n",
       "    }\n",
       "\n",
       "    .dataframe tbody tr th {\n",
       "        vertical-align: top;\n",
       "    }\n",
       "\n",
       "    .dataframe thead th {\n",
       "        text-align: right;\n",
       "    }\n",
       "</style>\n",
       "<table border=\"1\" class=\"dataframe\">\n",
       "  <thead>\n",
       "    <tr style=\"text-align: right;\">\n",
       "      <th></th>\n",
       "      <th>carat</th>\n",
       "      <th>cut</th>\n",
       "      <th>color</th>\n",
       "      <th>clarity</th>\n",
       "      <th>depth</th>\n",
       "      <th>table</th>\n",
       "      <th>price</th>\n",
       "      <th>x</th>\n",
       "      <th>y</th>\n",
       "      <th>z</th>\n",
       "    </tr>\n",
       "  </thead>\n",
       "  <tbody>\n",
       "    <tr>\n",
       "      <th>0</th>\n",
       "      <td>0.23</td>\n",
       "      <td>Ideal</td>\n",
       "      <td>E</td>\n",
       "      <td>SI2</td>\n",
       "      <td>61.5</td>\n",
       "      <td>55.0</td>\n",
       "      <td>326</td>\n",
       "      <td>3.95</td>\n",
       "      <td>3.98</td>\n",
       "      <td>2.43</td>\n",
       "    </tr>\n",
       "    <tr>\n",
       "      <th>1</th>\n",
       "      <td>0.21</td>\n",
       "      <td>Premium</td>\n",
       "      <td>E</td>\n",
       "      <td>SI1</td>\n",
       "      <td>59.8</td>\n",
       "      <td>61.0</td>\n",
       "      <td>326</td>\n",
       "      <td>3.89</td>\n",
       "      <td>3.84</td>\n",
       "      <td>2.31</td>\n",
       "    </tr>\n",
       "    <tr>\n",
       "      <th>2</th>\n",
       "      <td>0.23</td>\n",
       "      <td>Good</td>\n",
       "      <td>E</td>\n",
       "      <td>VS1</td>\n",
       "      <td>56.9</td>\n",
       "      <td>65.0</td>\n",
       "      <td>327</td>\n",
       "      <td>4.05</td>\n",
       "      <td>4.07</td>\n",
       "      <td>2.31</td>\n",
       "    </tr>\n",
       "    <tr>\n",
       "      <th>3</th>\n",
       "      <td>0.29</td>\n",
       "      <td>Premium</td>\n",
       "      <td>I</td>\n",
       "      <td>VS2</td>\n",
       "      <td>62.4</td>\n",
       "      <td>58.0</td>\n",
       "      <td>334</td>\n",
       "      <td>4.20</td>\n",
       "      <td>4.23</td>\n",
       "      <td>2.63</td>\n",
       "    </tr>\n",
       "    <tr>\n",
       "      <th>4</th>\n",
       "      <td>0.31</td>\n",
       "      <td>Good</td>\n",
       "      <td>J</td>\n",
       "      <td>SI2</td>\n",
       "      <td>63.3</td>\n",
       "      <td>58.0</td>\n",
       "      <td>335</td>\n",
       "      <td>4.34</td>\n",
       "      <td>4.35</td>\n",
       "      <td>2.75</td>\n",
       "    </tr>\n",
       "    <tr>\n",
       "      <th>5</th>\n",
       "      <td>0.24</td>\n",
       "      <td>Very Good</td>\n",
       "      <td>J</td>\n",
       "      <td>VVS2</td>\n",
       "      <td>62.8</td>\n",
       "      <td>57.0</td>\n",
       "      <td>336</td>\n",
       "      <td>3.94</td>\n",
       "      <td>3.96</td>\n",
       "      <td>2.48</td>\n",
       "    </tr>\n",
       "    <tr>\n",
       "      <th>6</th>\n",
       "      <td>0.24</td>\n",
       "      <td>Very Good</td>\n",
       "      <td>I</td>\n",
       "      <td>VVS1</td>\n",
       "      <td>62.3</td>\n",
       "      <td>57.0</td>\n",
       "      <td>336</td>\n",
       "      <td>3.95</td>\n",
       "      <td>3.98</td>\n",
       "      <td>2.47</td>\n",
       "    </tr>\n",
       "    <tr>\n",
       "      <th>7</th>\n",
       "      <td>0.26</td>\n",
       "      <td>Very Good</td>\n",
       "      <td>H</td>\n",
       "      <td>SI1</td>\n",
       "      <td>61.9</td>\n",
       "      <td>55.0</td>\n",
       "      <td>337</td>\n",
       "      <td>4.07</td>\n",
       "      <td>4.11</td>\n",
       "      <td>2.53</td>\n",
       "    </tr>\n",
       "    <tr>\n",
       "      <th>8</th>\n",
       "      <td>0.22</td>\n",
       "      <td>Fair</td>\n",
       "      <td>E</td>\n",
       "      <td>VS2</td>\n",
       "      <td>65.1</td>\n",
       "      <td>61.0</td>\n",
       "      <td>337</td>\n",
       "      <td>3.87</td>\n",
       "      <td>3.78</td>\n",
       "      <td>2.49</td>\n",
       "    </tr>\n",
       "    <tr>\n",
       "      <th>9</th>\n",
       "      <td>0.23</td>\n",
       "      <td>Very Good</td>\n",
       "      <td>H</td>\n",
       "      <td>VS1</td>\n",
       "      <td>59.4</td>\n",
       "      <td>61.0</td>\n",
       "      <td>338</td>\n",
       "      <td>4.00</td>\n",
       "      <td>4.05</td>\n",
       "      <td>2.39</td>\n",
       "    </tr>\n",
       "    <tr>\n",
       "      <th>10</th>\n",
       "      <td>0.30</td>\n",
       "      <td>Good</td>\n",
       "      <td>J</td>\n",
       "      <td>SI1</td>\n",
       "      <td>64.0</td>\n",
       "      <td>55.0</td>\n",
       "      <td>339</td>\n",
       "      <td>4.25</td>\n",
       "      <td>4.28</td>\n",
       "      <td>2.73</td>\n",
       "    </tr>\n",
       "    <tr>\n",
       "      <th>11</th>\n",
       "      <td>0.23</td>\n",
       "      <td>Ideal</td>\n",
       "      <td>J</td>\n",
       "      <td>VS1</td>\n",
       "      <td>62.8</td>\n",
       "      <td>56.0</td>\n",
       "      <td>340</td>\n",
       "      <td>3.93</td>\n",
       "      <td>3.90</td>\n",
       "      <td>2.46</td>\n",
       "    </tr>\n",
       "    <tr>\n",
       "      <th>12</th>\n",
       "      <td>0.22</td>\n",
       "      <td>Premium</td>\n",
       "      <td>F</td>\n",
       "      <td>SI1</td>\n",
       "      <td>60.4</td>\n",
       "      <td>61.0</td>\n",
       "      <td>342</td>\n",
       "      <td>3.88</td>\n",
       "      <td>3.84</td>\n",
       "      <td>2.33</td>\n",
       "    </tr>\n",
       "    <tr>\n",
       "      <th>13</th>\n",
       "      <td>0.31</td>\n",
       "      <td>Ideal</td>\n",
       "      <td>J</td>\n",
       "      <td>SI2</td>\n",
       "      <td>62.2</td>\n",
       "      <td>54.0</td>\n",
       "      <td>344</td>\n",
       "      <td>4.35</td>\n",
       "      <td>4.37</td>\n",
       "      <td>2.71</td>\n",
       "    </tr>\n",
       "    <tr>\n",
       "      <th>14</th>\n",
       "      <td>0.20</td>\n",
       "      <td>Premium</td>\n",
       "      <td>E</td>\n",
       "      <td>SI2</td>\n",
       "      <td>60.2</td>\n",
       "      <td>62.0</td>\n",
       "      <td>345</td>\n",
       "      <td>3.79</td>\n",
       "      <td>3.75</td>\n",
       "      <td>2.27</td>\n",
       "    </tr>\n",
       "  </tbody>\n",
       "</table>\n",
       "</div>"
      ],
      "text/plain": [
       "    carat        cut color clarity  depth  table  price     x     y     z\n",
       "0    0.23      Ideal     E     SI2   61.5   55.0    326  3.95  3.98  2.43\n",
       "1    0.21    Premium     E     SI1   59.8   61.0    326  3.89  3.84  2.31\n",
       "2    0.23       Good     E     VS1   56.9   65.0    327  4.05  4.07  2.31\n",
       "3    0.29    Premium     I     VS2   62.4   58.0    334  4.20  4.23  2.63\n",
       "4    0.31       Good     J     SI2   63.3   58.0    335  4.34  4.35  2.75\n",
       "5    0.24  Very Good     J    VVS2   62.8   57.0    336  3.94  3.96  2.48\n",
       "6    0.24  Very Good     I    VVS1   62.3   57.0    336  3.95  3.98  2.47\n",
       "7    0.26  Very Good     H     SI1   61.9   55.0    337  4.07  4.11  2.53\n",
       "8    0.22       Fair     E     VS2   65.1   61.0    337  3.87  3.78  2.49\n",
       "9    0.23  Very Good     H     VS1   59.4   61.0    338  4.00  4.05  2.39\n",
       "10   0.30       Good     J     SI1   64.0   55.0    339  4.25  4.28  2.73\n",
       "11   0.23      Ideal     J     VS1   62.8   56.0    340  3.93  3.90  2.46\n",
       "12   0.22    Premium     F     SI1   60.4   61.0    342  3.88  3.84  2.33\n",
       "13   0.31      Ideal     J     SI2   62.2   54.0    344  4.35  4.37  2.71\n",
       "14   0.20    Premium     E     SI2   60.2   62.0    345  3.79  3.75  2.27"
      ]
     },
     "execution_count": 12,
     "metadata": {},
     "output_type": "execute_result"
    }
   ],
   "source": [
    "data.head(15)"
   ]
  },
  {
   "cell_type": "markdown",
   "metadata": {
    "id": "K81w8s35y-Qq"
   },
   "source": [
    "## Линейная регрессия"
   ]
  },
  {
   "cell_type": "markdown",
   "metadata": {
    "id": "cYgEN-FMy-Qr"
   },
   "source": [
    "#### 0. [0.25 балла] Закодируйте категориальные признаки"
   ]
  },
  {
   "cell_type": "code",
   "execution_count": 13,
   "metadata": {
    "id": "-IrSlQaWy-Qr"
   },
   "outputs": [],
   "source": [
    "encoder = LabelEncoder()\n",
    "x['cut'] = encoder.fit_transform(x['cut'])\n",
    "x['color'] = encoder.fit_transform(x['color'])\n",
    "x['clarity'] = encoder.fit_transform(x['clarity'])"
   ]
  },
  {
   "cell_type": "code",
   "execution_count": 14,
   "metadata": {},
   "outputs": [
    {
     "data": {
      "text/html": [
       "<div>\n",
       "<style scoped>\n",
       "    .dataframe tbody tr th:only-of-type {\n",
       "        vertical-align: middle;\n",
       "    }\n",
       "\n",
       "    .dataframe tbody tr th {\n",
       "        vertical-align: top;\n",
       "    }\n",
       "\n",
       "    .dataframe thead th {\n",
       "        text-align: right;\n",
       "    }\n",
       "</style>\n",
       "<table border=\"1\" class=\"dataframe\">\n",
       "  <thead>\n",
       "    <tr style=\"text-align: right;\">\n",
       "      <th></th>\n",
       "      <th>carat</th>\n",
       "      <th>cut</th>\n",
       "      <th>color</th>\n",
       "      <th>clarity</th>\n",
       "      <th>depth</th>\n",
       "      <th>table</th>\n",
       "      <th>x</th>\n",
       "      <th>y</th>\n",
       "      <th>z</th>\n",
       "    </tr>\n",
       "  </thead>\n",
       "  <tbody>\n",
       "    <tr>\n",
       "      <th>0</th>\n",
       "      <td>0.23</td>\n",
       "      <td>2</td>\n",
       "      <td>1</td>\n",
       "      <td>3</td>\n",
       "      <td>61.5</td>\n",
       "      <td>55.0</td>\n",
       "      <td>3.95</td>\n",
       "      <td>3.98</td>\n",
       "      <td>2.43</td>\n",
       "    </tr>\n",
       "    <tr>\n",
       "      <th>1</th>\n",
       "      <td>0.21</td>\n",
       "      <td>3</td>\n",
       "      <td>1</td>\n",
       "      <td>2</td>\n",
       "      <td>59.8</td>\n",
       "      <td>61.0</td>\n",
       "      <td>3.89</td>\n",
       "      <td>3.84</td>\n",
       "      <td>2.31</td>\n",
       "    </tr>\n",
       "    <tr>\n",
       "      <th>2</th>\n",
       "      <td>0.23</td>\n",
       "      <td>1</td>\n",
       "      <td>1</td>\n",
       "      <td>4</td>\n",
       "      <td>56.9</td>\n",
       "      <td>65.0</td>\n",
       "      <td>4.05</td>\n",
       "      <td>4.07</td>\n",
       "      <td>2.31</td>\n",
       "    </tr>\n",
       "    <tr>\n",
       "      <th>3</th>\n",
       "      <td>0.29</td>\n",
       "      <td>3</td>\n",
       "      <td>5</td>\n",
       "      <td>5</td>\n",
       "      <td>62.4</td>\n",
       "      <td>58.0</td>\n",
       "      <td>4.20</td>\n",
       "      <td>4.23</td>\n",
       "      <td>2.63</td>\n",
       "    </tr>\n",
       "    <tr>\n",
       "      <th>4</th>\n",
       "      <td>0.31</td>\n",
       "      <td>1</td>\n",
       "      <td>6</td>\n",
       "      <td>3</td>\n",
       "      <td>63.3</td>\n",
       "      <td>58.0</td>\n",
       "      <td>4.34</td>\n",
       "      <td>4.35</td>\n",
       "      <td>2.75</td>\n",
       "    </tr>\n",
       "    <tr>\n",
       "      <th>5</th>\n",
       "      <td>0.24</td>\n",
       "      <td>4</td>\n",
       "      <td>6</td>\n",
       "      <td>7</td>\n",
       "      <td>62.8</td>\n",
       "      <td>57.0</td>\n",
       "      <td>3.94</td>\n",
       "      <td>3.96</td>\n",
       "      <td>2.48</td>\n",
       "    </tr>\n",
       "    <tr>\n",
       "      <th>6</th>\n",
       "      <td>0.24</td>\n",
       "      <td>4</td>\n",
       "      <td>5</td>\n",
       "      <td>6</td>\n",
       "      <td>62.3</td>\n",
       "      <td>57.0</td>\n",
       "      <td>3.95</td>\n",
       "      <td>3.98</td>\n",
       "      <td>2.47</td>\n",
       "    </tr>\n",
       "    <tr>\n",
       "      <th>7</th>\n",
       "      <td>0.26</td>\n",
       "      <td>4</td>\n",
       "      <td>4</td>\n",
       "      <td>2</td>\n",
       "      <td>61.9</td>\n",
       "      <td>55.0</td>\n",
       "      <td>4.07</td>\n",
       "      <td>4.11</td>\n",
       "      <td>2.53</td>\n",
       "    </tr>\n",
       "    <tr>\n",
       "      <th>8</th>\n",
       "      <td>0.22</td>\n",
       "      <td>0</td>\n",
       "      <td>1</td>\n",
       "      <td>5</td>\n",
       "      <td>65.1</td>\n",
       "      <td>61.0</td>\n",
       "      <td>3.87</td>\n",
       "      <td>3.78</td>\n",
       "      <td>2.49</td>\n",
       "    </tr>\n",
       "    <tr>\n",
       "      <th>9</th>\n",
       "      <td>0.23</td>\n",
       "      <td>4</td>\n",
       "      <td>4</td>\n",
       "      <td>4</td>\n",
       "      <td>59.4</td>\n",
       "      <td>61.0</td>\n",
       "      <td>4.00</td>\n",
       "      <td>4.05</td>\n",
       "      <td>2.39</td>\n",
       "    </tr>\n",
       "    <tr>\n",
       "      <th>10</th>\n",
       "      <td>0.30</td>\n",
       "      <td>1</td>\n",
       "      <td>6</td>\n",
       "      <td>2</td>\n",
       "      <td>64.0</td>\n",
       "      <td>55.0</td>\n",
       "      <td>4.25</td>\n",
       "      <td>4.28</td>\n",
       "      <td>2.73</td>\n",
       "    </tr>\n",
       "    <tr>\n",
       "      <th>11</th>\n",
       "      <td>0.23</td>\n",
       "      <td>2</td>\n",
       "      <td>6</td>\n",
       "      <td>4</td>\n",
       "      <td>62.8</td>\n",
       "      <td>56.0</td>\n",
       "      <td>3.93</td>\n",
       "      <td>3.90</td>\n",
       "      <td>2.46</td>\n",
       "    </tr>\n",
       "    <tr>\n",
       "      <th>12</th>\n",
       "      <td>0.22</td>\n",
       "      <td>3</td>\n",
       "      <td>2</td>\n",
       "      <td>2</td>\n",
       "      <td>60.4</td>\n",
       "      <td>61.0</td>\n",
       "      <td>3.88</td>\n",
       "      <td>3.84</td>\n",
       "      <td>2.33</td>\n",
       "    </tr>\n",
       "    <tr>\n",
       "      <th>13</th>\n",
       "      <td>0.31</td>\n",
       "      <td>2</td>\n",
       "      <td>6</td>\n",
       "      <td>3</td>\n",
       "      <td>62.2</td>\n",
       "      <td>54.0</td>\n",
       "      <td>4.35</td>\n",
       "      <td>4.37</td>\n",
       "      <td>2.71</td>\n",
       "    </tr>\n",
       "    <tr>\n",
       "      <th>14</th>\n",
       "      <td>0.20</td>\n",
       "      <td>3</td>\n",
       "      <td>1</td>\n",
       "      <td>3</td>\n",
       "      <td>60.2</td>\n",
       "      <td>62.0</td>\n",
       "      <td>3.79</td>\n",
       "      <td>3.75</td>\n",
       "      <td>2.27</td>\n",
       "    </tr>\n",
       "  </tbody>\n",
       "</table>\n",
       "</div>"
      ],
      "text/plain": [
       "    carat  cut  color  clarity  depth  table     x     y     z\n",
       "0    0.23    2      1        3   61.5   55.0  3.95  3.98  2.43\n",
       "1    0.21    3      1        2   59.8   61.0  3.89  3.84  2.31\n",
       "2    0.23    1      1        4   56.9   65.0  4.05  4.07  2.31\n",
       "3    0.29    3      5        5   62.4   58.0  4.20  4.23  2.63\n",
       "4    0.31    1      6        3   63.3   58.0  4.34  4.35  2.75\n",
       "5    0.24    4      6        7   62.8   57.0  3.94  3.96  2.48\n",
       "6    0.24    4      5        6   62.3   57.0  3.95  3.98  2.47\n",
       "7    0.26    4      4        2   61.9   55.0  4.07  4.11  2.53\n",
       "8    0.22    0      1        5   65.1   61.0  3.87  3.78  2.49\n",
       "9    0.23    4      4        4   59.4   61.0  4.00  4.05  2.39\n",
       "10   0.30    1      6        2   64.0   55.0  4.25  4.28  2.73\n",
       "11   0.23    2      6        4   62.8   56.0  3.93  3.90  2.46\n",
       "12   0.22    3      2        2   60.4   61.0  3.88  3.84  2.33\n",
       "13   0.31    2      6        3   62.2   54.0  4.35  4.37  2.71\n",
       "14   0.20    3      1        3   60.2   62.0  3.79  3.75  2.27"
      ]
     },
     "execution_count": 14,
     "metadata": {},
     "output_type": "execute_result"
    }
   ],
   "source": [
    "x.head(15)"
   ]
  },
  {
   "cell_type": "code",
   "execution_count": 15,
   "metadata": {},
   "outputs": [
    {
     "data": {
      "text/plain": [
       "count    53940.000000\n",
       "mean      3932.799722\n",
       "std       3989.439738\n",
       "min        326.000000\n",
       "25%        950.000000\n",
       "50%       2401.000000\n",
       "75%       5324.250000\n",
       "max      18823.000000\n",
       "Name: price, dtype: float64"
      ]
     },
     "execution_count": 15,
     "metadata": {},
     "output_type": "execute_result"
    }
   ],
   "source": [
    "y.describe()"
   ]
  },
  {
   "cell_type": "code",
   "execution_count": 16,
   "metadata": {},
   "outputs": [
    {
     "data": {
      "image/png": "[encoded data removed]",
      "text/plain": [
       "<Figure size 720x432 with 1 Axes>"
      ]
     },
     "metadata": {},
     "output_type": "display_data"
    }
   ],
   "source": [
    "plt.figure(figsize=(10,6))\n",
    "plt.hist(y, bins=50, ec='black', color='pink')\n",
    "plt.xlabel('Price')\n",
    "plt.ylabel('Number')\n",
    "plt.show()"
   ]
  },
  {
   "cell_type": "code",
   "execution_count": 17,
   "metadata": {},
   "outputs": [],
   "source": [
    "y_log = np.log(y)"
   ]
  },
  {
   "cell_type": "code",
   "execution_count": 18,
   "metadata": {},
   "outputs": [
    {
     "data": {
      "image/png": "[encoded data removed]",
      "text/plain": [
       "<Figure size 720x432 with 1 Axes>"
      ]
     },
     "metadata": {},
     "output_type": "display_data"
    }
   ],
   "source": [
    "plt.figure(figsize=(10,6))\n",
    "plt.hist(y_log, bins=50, ec='black', color='pink')\n",
    "plt.xlabel('Price_log')\n",
    "plt.ylabel('Number')\n",
    "plt.show()"
   ]
  },
  {
   "cell_type": "code",
   "execution_count": 19,
   "metadata": {},
   "outputs": [
    {
     "name": "stdout",
     "output_type": "stream",
     "text": [
      "training r-squared 0.885326091785287\n",
      "test r-squared 0.883996326954483\n",
      "intercept 3928.6812893956258\n"
     ]
    }
   ],
   "source": [
    "x_train, x_test, y_train, y_test = train_test_split(x, y, test_size=0.2, random_state=17)\n",
    "\n",
    "scaler = StandardScaler()\n",
    "x_train_scaled = scaler.fit_transform(x_train)\n",
    "x_test_scaled = scaler.transform(x_test)\n",
    "\n",
    "model = LinearRegression()\n",
    "model.fit(x_train_scaled, y_train)\n",
    "\n",
    "print('training r-squared', model.score(x_train_scaled, y_train))\n",
    "print('test r-squared', model.score(x_test_scaled, y_test))\n",
    "print('intercept', model.intercept_)"
   ]
  },
  {
   "cell_type": "code",
   "execution_count": 20,
   "metadata": {},
   "outputs": [
    {
     "name": "stdout",
     "output_type": "stream",
     "text": [
      "training r-squared 0.9487836808333271\n",
      "test r-squared 0.9329898596237695\n",
      "intercept 7.785915215637183\n"
     ]
    }
   ],
   "source": [
    "x_train, x_test, y_train, y_test = train_test_split(x, y_log, test_size=0.2, random_state=17)\n",
    "\n",
    "scaler = StandardScaler()\n",
    "x_train_scaled = scaler.fit_transform(x_train)\n",
    "x_test_scaled = scaler.transform(x_test)\n",
    "\n",
    "model = LinearRegression()\n",
    "model.fit(x_train_scaled, y_train)\n",
    "\n",
    "print('training r-squared', model.score(x_train_scaled, y_train))\n",
    "print('test r-squared', model.score(x_test_scaled, y_test))\n",
    "print('intercept', model.intercept_)"
   ]
  },
  {
   "cell_type": "markdown",
   "metadata": {
    "id": "7dVwP45Gy-Qr"
   },
   "source": [
    "#### 1. [0.25 балла] Разбейте данные на train и test с пропорцией 80:20 и random_state=17. "
   ]
  },
  {
   "cell_type": "code",
   "execution_count": 21,
   "metadata": {
    "id": "U7z8TIh5y-Qs"
   },
   "outputs": [],
   "source": [
    "x_train, x_test, y_train, y_test = train_test_split(x, y_log, test_size=0.2, random_state=17)"
   ]
  },
  {
   "cell_type": "code",
   "execution_count": 22,
   "metadata": {},
   "outputs": [],
   "source": [
    "scaler = StandardScaler()\n",
    "x_train_scaled = scaler.fit_transform(x_train)\n",
    "x_test_scaled = scaler.transform(x_test)"
   ]
  },
  {
   "cell_type": "markdown",
   "metadata": {
    "id": "7daIQRfKy-Qs"
   },
   "source": [
    "#### 2. [1 балл] Обучите модели на train'е используя библиотеку StatsModels и примените ее к test'у; используйте $RMSE$ и $R ^ 2$ в качестве метрики качества. Попробуйте также применить реализации линейной регрессии из sklearn:\n",
    "\n",
    "* [`LinearRegression`](http://scikit-learn.org/stable/modules/generated/sklearn.linear_model.LinearRegression.html);\n",
    "* [`Ridge`](http://scikit-learn.org/stable/modules/generated/sklearn.linear_model.Ridge.html) with $\\alpha = 0.01$;\n",
    "* [`Lasso`](http://scikit-learn.org/stable/modules/generated/sklearn.linear_model.Lasso.html) with $\\alpha = 0.01$\n",
    "* [`ElasticNet`](https://scikit-learn.org/stable/modules/generated/sklearn.linear_model.ElasticNet.html) with $\\alpha = 0.01$, $l_{1}$_$ratio = 0.6$\n",
    "\n",
    "Не забывайте скейлить данные с помощью StandardScaler перед обучением моделей! "
   ]
  },
  {
   "cell_type": "code",
   "execution_count": 23,
   "metadata": {
    "id": "Bkbr5iFCy-Qs"
   },
   "outputs": [],
   "source": [
    "# Обучение модели LinearRegression\n",
    "lr = LinearRegression()\n",
    "lr.fit(x_train_scaled, y_train)\n",
    "y_pred_lr = lr.predict(x_test_scaled)\n",
    "\n",
    "# Обучение модели Ridge\n",
    "ridge = Ridge(alpha=0.01)\n",
    "ridge.fit(x_train_scaled, y_train)\n",
    "y_pred_ridge = ridge.predict(x_test_scaled)\n",
    "\n",
    "# Обучение модели Lasso\n",
    "lasso = Lasso(alpha=0.01)\n",
    "lasso.fit(x_train_scaled, y_train)\n",
    "y_pred_lasso = lasso.predict(x_test_scaled)\n",
    "\n",
    "# Обучение модели ElasticNet\n",
    "elastic = ElasticNet(alpha=0.01, l1_ratio=0.6)\n",
    "elastic.fit(x_train_scaled, y_train)\n",
    "y_pred_elastic = elastic.predict(x_test_scaled)\n",
    "\n",
    "# Обучение модели StatsModels\n",
    "x_train_scaled = sm.add_constant(x_train_scaled)\n",
    "\n",
    "model_sm = sm.OLS(y_train, x_train_scaled)\n",
    "results_sm = model_sm.fit()\n",
    "\n",
    "x_test_scaled = sm.add_constant(x_test_scaled)\n",
    "\n",
    "y_pred_sm = results_sm.predict(x_test_scaled)"
   ]
  },
  {
   "cell_type": "code",
   "execution_count": 24,
   "metadata": {},
   "outputs": [
    {
     "name": "stdout",
     "output_type": "stream",
     "text": [
      "LinearRegression\n",
      "R2: 0.9330\n",
      "RMSE: 0.2625\n",
      "\n",
      "Ridge\n",
      "R2: 0.9330\n",
      "RMSE: 0.2625\n",
      "\n",
      "Lasso\n",
      "R2: 0.9341\n",
      "RMSE: 0.2604\n",
      "\n",
      "ElasticNet\n",
      "R2: 0.9342\n",
      "RMSE: 0.2601\n",
      "\n",
      "OLS\n",
      "R2: 0.9330\n",
      "RMSE: 0.2625\n"
     ]
    }
   ],
   "source": [
    "print(\"LinearRegression\")\n",
    "print(f\"R2: {r2_score(y_test, y_pred_lr):.4f}\")\n",
    "print(f\"RMSE: {mean_squared_error(y_test, y_pred_lr, squared=False):.4f}\\n\")\n",
    "\n",
    "print(\"Ridge\")\n",
    "print(f\"R2: {r2_score(y_test, y_pred_ridge):.4f}\")\n",
    "print(f\"RMSE: {mean_squared_error(y_test, y_pred_ridge, squared=False):.4f}\\n\")\n",
    "\n",
    "print(\"Lasso\")\n",
    "print(f\"R2: {r2_score(y_test, y_pred_lasso):.4f}\")\n",
    "print(f\"RMSE: {mean_squared_error(y_test, y_pred_lasso, squared=False):.4f}\\n\")\n",
    "\n",
    "print(\"ElasticNet\")\n",
    "print(f\"R2: {r2_score(y_test, y_pred_elastic):.4f}\")\n",
    "print(f\"RMSE: {mean_squared_error(y_test, y_pred_elastic, squared=False):.4f}\\n\")\n",
    "\n",
    "print(\"OLS\")\n",
    "print(f\"R2: {r2_score(y_test, y_pred_sm):.4f}\")\n",
    "print(f\"RMSE: {mean_squared_error(y_test, y_pred_sm, squared=False):.4f}\")"
   ]
  },
  {
   "cell_type": "markdown",
   "metadata": {
    "id": "69JOftKRy-Qt"
   },
   "source": [
    "#### 3. [1 балл] Исследуйте значения параметров полученных моделей и проверьте какие веса получились нулевыми. Прокомментируйте значимость коэффициентов, обшую значимость модели и остальные факторы из результирующей таблицы "
   ]
  },
  {
   "cell_type": "code",
   "execution_count": 25,
   "metadata": {
    "id": "Np1biYQ7y-Qt"
   },
   "outputs": [],
   "source": [
    "lr_coef_df = pd.DataFrame(data=lr.coef_, index=x_train.columns, columns=['lr_coef'])\n",
    "ridge_coef_df = pd.DataFrame(data=ridge.coef_, index=x_train.columns, columns=['ridge_coef'])\n",
    "lasso_coef_df = pd.DataFrame(data=lasso.coef_, index=x_train.columns, columns=['lasso_coef'])\n",
    "elastic_coef_df = pd.DataFrame(data=elastic.coef_, index=x_train.columns, columns=['elastic_coef'])\n",
    "\n",
    "ols_coef = []\n",
    "for i in range(len(results_sm.params)):\n",
    "    ols_coef.append(results_sm.params[i])\n",
    "sm_coef_df = pd.DataFrame(data=ols_coef[1:], index=x_train.columns, columns=['ols_coef'])\n",
    "\n",
    "coef_df = pd.concat([lr_coef_df, ridge_coef_df, lasso_coef_df, elastic_coef_df, sm_coef_df], axis=1)\n",
    "coef_df.loc['Intercept_'] = pd.Series([lr.intercept_, ridge.intercept_, lasso.intercept_, elastic.intercept_,\n",
    "                                           ols_coef[0]], index=coef_df.columns)"
   ]
  },
  {
   "cell_type": "code",
   "execution_count": 26,
   "metadata": {},
   "outputs": [
    {
     "data": {
      "text/html": [
       "<div>\n",
       "<style scoped>\n",
       "    .dataframe tbody tr th:only-of-type {\n",
       "        vertical-align: middle;\n",
       "    }\n",
       "\n",
       "    .dataframe tbody tr th {\n",
       "        vertical-align: top;\n",
       "    }\n",
       "\n",
       "    .dataframe thead th {\n",
       "        text-align: right;\n",
       "    }\n",
       "</style>\n",
       "<table border=\"1\" class=\"dataframe\">\n",
       "  <thead>\n",
       "    <tr style=\"text-align: right;\">\n",
       "      <th></th>\n",
       "      <th>lr_coef</th>\n",
       "      <th>ridge_coef</th>\n",
       "      <th>lasso_coef</th>\n",
       "      <th>elastic_coef</th>\n",
       "      <th>ols_coef</th>\n",
       "    </tr>\n",
       "  </thead>\n",
       "  <tbody>\n",
       "    <tr>\n",
       "      <th>carat</th>\n",
       "      <td>-0.344168</td>\n",
       "      <td>-0.344160</td>\n",
       "      <td>-0.000000</td>\n",
       "      <td>-0.000000</td>\n",
       "      <td>-0.344168</td>\n",
       "    </tr>\n",
       "    <tr>\n",
       "      <th>cut</th>\n",
       "      <td>0.008717</td>\n",
       "      <td>0.008717</td>\n",
       "      <td>0.000000</td>\n",
       "      <td>0.000000</td>\n",
       "      <td>0.008717</td>\n",
       "    </tr>\n",
       "    <tr>\n",
       "      <th>color</th>\n",
       "      <td>-0.111587</td>\n",
       "      <td>-0.111588</td>\n",
       "      <td>-0.105390</td>\n",
       "      <td>-0.109874</td>\n",
       "      <td>-0.111587</td>\n",
       "    </tr>\n",
       "    <tr>\n",
       "      <th>clarity</th>\n",
       "      <td>0.110173</td>\n",
       "      <td>0.110173</td>\n",
       "      <td>0.093641</td>\n",
       "      <td>0.097649</td>\n",
       "      <td>0.110173</td>\n",
       "    </tr>\n",
       "    <tr>\n",
       "      <th>depth</th>\n",
       "      <td>0.049048</td>\n",
       "      <td>0.049047</td>\n",
       "      <td>0.017748</td>\n",
       "      <td>0.016217</td>\n",
       "      <td>0.049048</td>\n",
       "    </tr>\n",
       "    <tr>\n",
       "      <th>table</th>\n",
       "      <td>-0.017797</td>\n",
       "      <td>-0.017797</td>\n",
       "      <td>-0.010319</td>\n",
       "      <td>-0.012729</td>\n",
       "      <td>-0.017797</td>\n",
       "    </tr>\n",
       "    <tr>\n",
       "      <th>x</th>\n",
       "      <td>1.286335</td>\n",
       "      <td>1.286317</td>\n",
       "      <td>0.934596</td>\n",
       "      <td>0.837961</td>\n",
       "      <td>1.286335</td>\n",
       "    </tr>\n",
       "    <tr>\n",
       "      <th>y</th>\n",
       "      <td>0.052553</td>\n",
       "      <td>0.052558</td>\n",
       "      <td>0.033691</td>\n",
       "      <td>0.089769</td>\n",
       "      <td>0.052553</td>\n",
       "    </tr>\n",
       "    <tr>\n",
       "      <th>z</th>\n",
       "      <td>0.032344</td>\n",
       "      <td>0.032349</td>\n",
       "      <td>0.049684</td>\n",
       "      <td>0.096221</td>\n",
       "      <td>0.032344</td>\n",
       "    </tr>\n",
       "    <tr>\n",
       "      <th>Intercept_</th>\n",
       "      <td>7.785915</td>\n",
       "      <td>7.785915</td>\n",
       "      <td>7.785915</td>\n",
       "      <td>7.785915</td>\n",
       "      <td>7.785915</td>\n",
       "    </tr>\n",
       "  </tbody>\n",
       "</table>\n",
       "</div>"
      ],
      "text/plain": [
       "             lr_coef  ridge_coef  lasso_coef  elastic_coef  ols_coef\n",
       "carat      -0.344168   -0.344160   -0.000000     -0.000000 -0.344168\n",
       "cut         0.008717    0.008717    0.000000      0.000000  0.008717\n",
       "color      -0.111587   -0.111588   -0.105390     -0.109874 -0.111587\n",
       "clarity     0.110173    0.110173    0.093641      0.097649  0.110173\n",
       "depth       0.049048    0.049047    0.017748      0.016217  0.049048\n",
       "table      -0.017797   -0.017797   -0.010319     -0.012729 -0.017797\n",
       "x           1.286335    1.286317    0.934596      0.837961  1.286335\n",
       "y           0.052553    0.052558    0.033691      0.089769  0.052553\n",
       "z           0.032344    0.032349    0.049684      0.096221  0.032344\n",
       "Intercept_  7.785915    7.785915    7.785915      7.785915  7.785915"
      ]
     },
     "execution_count": 26,
     "metadata": {},
     "output_type": "execute_result"
    }
   ],
   "source": [
    "coef_df"
   ]
  },
  {
   "cell_type": "markdown",
   "metadata": {},
   "source": [
    "Для моделей Lasso и Elastic некоторые веса признаков стали равны нулю. Скорее всего это вызвано использованием регуляризации в моделях, которая штрафует большие веса признаков и уменьшает их важность.\n",
    "\n",
    "Признак \"carat\", связанный с массой алмаза, имеет отрицательный коэффициент в моделях LR и Ridge, что говорит о том, что более крупные алмазы могут иметь меньшую ценность на рынке, однако в реальной жизни это не так. При всех прочих равных параметрах при увеличении значения карат, цена бриллианта возрастает. Такое значение в модели может быть вызвано большим количеством факторов, например тем, что в данном датасете большое количество бриллиантов с большим количеством карат, но некачественных по остальным критериям. Однако в данном случае разгадка кроется в другом. Стоить вспомнить что мы прологарифмировали данные по целевой переменной, тк они имели не очень удачное распределение, далекое от нормального. Этим вызвано появление подобного веса у параметра \"carat\". Также стоит учитывать что значения весов в данном случае показывают изменение именно процентного соотношения в целевой переменной\n",
    "\n",
    "Признак \"cut\" имеет положительный коэффициент во моделях LR и Ridge, но он меньше, чем у других признаков, что говорит о том, что качество огранки алмаза тоже влияет на цену алмаза на рынке, но не так сильно, как остальные параметры.\n",
    "\n",
    "Признак \"color\" имеет отрицательный коэффициент во всех моделях, что говорит о том, что более прозрачные алмазы имеют более высокую ценность на рынке.\n",
    "\n",
    "Признак \"clarity\", связанный с оценкой чистоты алмаза, имеет положительный коэффициент во всех моделях, что говорит о том, что более чистые алмазы имеют более высокую ценность на рынке. Также стоит заметить, что веса \"clarity\" почти не отличаются между собой в разных моделях как и веса \"color\", что может говорить о том, что эти 2 параметра несут уникальную информацию в рамках датасета и скорее всего имеют слабу корреляцию с другими параметрами из датасета.\n",
    "\n",
    "Признак \"depth\" имеет положительный коэффициент во всех моделях, что говорит о том, что алмазы с большей высотой камня от верхней грани имеют более высокую ценность.\n",
    "\n",
    "Признак \"table\", связанный с шириной верхней грани алмаза, имеет отрицательный коэффициент во всех моделях, но его вес меньше, чем у других признаков, что говорит о том, что ширина верхней грани не имеет сильного влияния на цену алмаза.\n",
    "\n",
    "Признаки \"x\", \"y\" и \"z\", связанные с размерами алмаза, имеют положительные коэффициенты во всех моделях, что говорит о том, что более крупные алмазы стоят больше, а сильнее всего из данных параметров на цену влияет горизонтальная длина алмаза \"x\".\n",
    "\n",
    "Отдельно хочется обратить внимание на **абсолютную равнозначность** моделей LR и OLS, потому что это две одинаковые модели, просто при обучении модели OLS было необходимо вручную добавить столбец констант для нахождения свободного члена уравнения линейной регрессии)))"
   ]
  },
  {
   "cell_type": "markdown",
   "metadata": {
    "id": "yLcvGlUZy-Qt"
   },
   "source": [
    "#### 4. [1 балл] Реализуйте один из алгоритмов отбора признаков (Elimination by P-value, Forward elimination, Backward elimination), сделайте выводы."
   ]
  },
  {
   "cell_type": "code",
   "execution_count": 19,
   "metadata": {
    "id": "TnrbRbkwy-Qt"
   },
   "outputs": [],
   "source": [
    "def forward_selection(x, y, pvalue_level=0.05):\n",
    "    features = list(x.columns)\n",
    "    selected_features = []\n",
    "    while len(features) > 0:\n",
    "        remaining_features = list(set(features) - set(selected_features))\n",
    "        new_pval = pd.Series(index=remaining_features, dtype=float)\n",
    "        for new_column in remaining_features:\n",
    "            model = sm.OLS(y, sm.add_constant(x[selected_features + [new_column]])).fit()\n",
    "            new_pval[new_column] = model.pvalues[new_column]\n",
    "        min_pval = new_pval.min()\n",
    "        if min_pval < pvalue_level:\n",
    "            selected_features.append(new_pval.idxmin())\n",
    "        else:\n",
    "            break\n",
    "    return selected_features"
   ]
  },
  {
   "cell_type": "code",
   "execution_count": 20,
   "metadata": {},
   "outputs": [
    {
     "name": "stdout",
     "output_type": "stream",
     "text": [
      "Selected features: ['x', 'clarity', 'color', 'carat', 'depth', 'table', 'cut', 'y']\n"
     ]
    }
   ],
   "source": [
    "np.random.seed(42)\n",
    "selected_features = forward_selection(x, y)\n",
    "print('Selected features:', selected_features)"
   ]
  },
  {
   "cell_type": "code",
   "execution_count": 27,
   "metadata": {},
   "outputs": [
    {
     "data": {
      "text/plain": [
       "0.9750942267264208"
      ]
     },
     "execution_count": 27,
     "metadata": {},
     "output_type": "execute_result"
    }
   ],
   "source": [
    "x['carat'].corr(x['x'])"
   ]
  },
  {
   "cell_type": "markdown",
   "metadata": {},
   "source": [
    "Какие тут можно сделать выводы? Максимально прозрачный алгоритм Forward Elimination, который можно использовать во первых для отбрасывания статистически не важных данных в конкретном датасете(например по значению p-value), а также для того, чтобы в какой-то степени упорядочить параметры по статистической значимости(опять же если судить по критерию p-value) в их комбинации друг с другом. Обычно Backward Elimination предпочтительнее, особенно если ведется работа с очень многомерными векторами данных. Но если необходимо сократить размерность данных, то предпочтительнее начать с использования таких методов, как например PCA.\n",
    "\n",
    "В данном случае мы можем увидеть довольно ожидаемые результаты: наиболее статистически важные парметры это **x**, **clarity** и **color**. **carat** сразу же идет следом. Это может показаться странным, ведь на деле это ключевой параметр при оценке стоимости алмаза, но на самом деле все в порядке, тк **carat** очень сильно коррелирует со значением **x**, что неудивительно, тк вес алмаза в каратах напрямую зависит от его длины **x** в мм)\n",
    "\n",
    "**depth**, **table** и **cut** также влияют на цену алмаза, но не так сильно как ключевые параметры **clarity** и **color**.\n",
    "\n",
    "**y** из всех параметров датасета оказался наименее значимым, а **z** вообще не вошел в список фич, хотя в матрице весов они имеют большие значения чем например **depth** и **сut**, но это обусловлено тем, что *грубо говоря* **carat**, **x**, **y** и **z** несут в рамках датасета одну и ту же информацию.\n",
    "\n",
    "**В целом** порядок параметров по значимости совпадает с тем, который мы могли бы составить опираясь на веса моделей."
   ]
  },
  {
   "cell_type": "markdown",
   "metadata": {
    "id": "df0eQLdNy-Qt"
   },
   "source": [
    "#### 5. [1 балл] Найдите лучший (по RMSE) $\\alpha$ для регрессиии Lasso, используя кросс-валидациб на 4 фолда. Вы должны выбрать значение из промежутка $[10^{-4}, 10^{3}]$."
   ]
  },
  {
   "cell_type": "markdown",
   "metadata": {},
   "source": [
    "*кросс валидацию* при разбиении на 4 фолда я буду применять ко всей выборке **x**, а не только к тренировочной, потому что в данном случае по условию задания нам просто нужно подобрать наилучший гиперпараметр опираясь на результаты моделей протренированных на разных наборах фолдов и нет необходимости проводить повторную валидацию модели, показавшей лучший результат с использованием **x_train**(не надо делать \"Final evaluation\")"
   ]
  },
  {
   "cell_type": "markdown",
   "metadata": {},
   "source": [
    "![A](https://yastatic.net/s3/ml-handbook/admin/8_3_715a0c2b1d.png)"
   ]
  },
  {
   "cell_type": "code",
   "execution_count": 28,
   "metadata": {
    "id": "JPoT3YHqy-Qt"
   },
   "outputs": [
    {
     "name": "stdout",
     "output_type": "stream",
     "text": [
      "Best alpha: 0.0001\n"
     ]
    }
   ],
   "source": [
    "from sklearn.linear_model import LassoCV\n",
    "\n",
    "scaler = StandardScaler()\n",
    "x_scaled = scaler.fit_transform(x)\n",
    "\n",
    "lasso_cv = LassoCV(alphas=np.logspace(-4, 3, 8), cv=4)\n",
    "lasso_cv.fit(x_scaled, y_log)\n",
    "\n",
    "print(\"Best alpha:\", lasso_cv.alpha_)"
   ]
  },
  {
   "cell_type": "code",
   "execution_count": 29,
   "metadata": {},
   "outputs": [
    {
     "name": "stdout",
     "output_type": "stream",
     "text": [
      "Best alpha: 0.0001\n"
     ]
    }
   ],
   "source": [
    "from sklearn.model_selection import KFold\n",
    "\n",
    "kf = KFold(n_splits=4)\n",
    "\n",
    "scaler = StandardScaler()\n",
    "x_scaled = scaler.fit_transform(x)\n",
    "\n",
    "alphas = np.logspace(-4, 3, num=100)\n",
    "\n",
    "def best_alpha(kfold, x, y, interval):\n",
    "    \n",
    "    rmse_list = []\n",
    "    \n",
    "    for alpha in interval:\n",
    "        rmse = 0\n",
    "        for train_idx, test_idx in kfold.split(x):\n",
    "            x_train, x_test = x[train_idx], x[test_idx]\n",
    "            y_train, y_test = y[train_idx], y[test_idx]\n",
    "            model = Lasso(alpha=alpha)\n",
    "            model.fit(x_train, y_train)\n",
    "            y_pred = model.predict(x_test)\n",
    "            rmse += np.sqrt(np.mean((y_test - y_pred) ** 2))\n",
    "        rmse /= kfold.get_n_splits(x) ##По условию задачи 4\n",
    "        rmse_list.append(rmse)\n",
    "\n",
    "    best_idx = np.argmin(rmse_list)\n",
    "    \n",
    "    return round(interval[best_idx], 4)\n",
    "\n",
    "print(\"Best alpha:\", best_alpha(kf, x_scaled, y_log, alphas))"
   ]
  },
  {
   "cell_type": "markdown",
   "metadata": {
    "id": "Q1PKinJUy-Qt"
   },
   "source": [
    "## Градиентный спуск\n",
    "\n",
    "#### 6. [3.5 балла] Имплементируйте  Ridge регрессию для MSE loss, обученную на градиентом спуске.\n",
    "\n",
    "\n",
    "Все вычисления должны быть векторизованы, а циклы Python можно использовать только для итераций градиентного спуска. В качестве критерия остановки необходимо использовать (одновременно):\n",
    "\n",
    "* проверка абсолютной нормы разницы весов на двух соседних итерациях (например, меньше некоторого малого числа порядка $10^{-6}$, заданного параметром `tolerance`);\n",
    "\n",
    "* достижение максимального количества итераций (например, 10000, заданного параметром `max_iter`).\n",
    "\n",
    "Вам необходимо выполнить:\n",
    "\n",
    "* Полный градиентный спуск:\n",
    "\n",
    "$$\n",
    "w_{k + 1} = w_{k} - \\eta_{k} \\nabla_{w} Q(w_{k}).\n",
    "$$\n",
    "\n",
    "* Стохастический градиентный спуск:\n",
    "\n",
    "$$\n",
    "w_{k + 1} = w_{k} - \\eta_{k} \\nabla_{w} q_{i_{k}}(w_{k}).\n",
    "$$\n",
    "\n",
    "$\\nabla_{w} q_{i_{k}}(w_{k}) \\, $ является оценкой градиента по набору объектов, выбранных случайным образом.\n",
    "\n",
    "* Momentum method:\n",
    "\n",
    "$$\n",
    "h_0 = 0, \\\\\n",
    "h_{k + 1} = \\alpha h_{k} + \\eta_k \\nabla_{w} Q(w_{k}), \\\\\n",
    "w_{k + 1} = w_{k} - h_{k + 1}.\n",
    "$$\n",
    "\n",
    "* Adagrad method:\n",
    "\n",
    "$$\n",
    "G_0 = 0, \\\\\n",
    "G_{k + 1} = G_{k} + (\\nabla_{w} Q(w_{k+1}))^2, \\\\\n",
    "w_{k + 1} = w_{k} - \\eta * \\frac{\\nabla_{w} Q(w_{k+1})}{\\sqrt{G_{k+1} + \\epsilon}}.\n",
    "$$\n",
    "\n",
    "Чтобы убедиться, что процесс оптимизации действительно выполняется, мы будем использовать атрибут класса `loss_history`. После вызова метода fit он должен содержать значения функции потерь для всех итераций, начиная с первой (до первого шага по антиградиенту).\n",
    "\n",
    "\n",
    "Вам нужно инициализировать веса случайным вектором из нормального распределения. Ниже приведен шаблон, который должен содержать код, реализующий все варианты моделей."
   ]
  },
  {
   "cell_type": "code",
   "execution_count": 30,
   "metadata": {
    "id": "oI39UzCLy-Qu"
   },
   "outputs": [],
   "source": [
    "from sklearn.base import BaseEstimator"
   ]
  },
  {
   "cell_type": "markdown",
   "metadata": {},
   "source": [
    "### RidgeRegression GradientDecent"
   ]
  },
  {
   "cell_type": "code",
   "execution_count": 31,
   "metadata": {},
   "outputs": [],
   "source": [
    "class RidgeRegressionGD:\n",
    "    def __init__(self, alpha=0.01, eta=0.01, max_iter=10000, tolerance=1e-6, random_state=42):\n",
    "        self.alpha = alpha\n",
    "        self.eta = eta\n",
    "        self.max_iter = max_iter\n",
    "        self.tolerance = tolerance\n",
    "        self.random_state = random_state\n",
    "        self.w = None\n",
    "        self.loss_history = []\n",
    "        \n",
    "    def fit(self, X, y):\n",
    "        X = np.hstack((np.ones((X.shape[0], 1)), X))\n",
    "        \n",
    "        rng = np.random.default_rng(self.random_state)\n",
    "        self.w = rng.normal(size=X.shape[1])\n",
    "        \n",
    "        for i in range(self.max_iter):\n",
    "            y_pred = np.dot(X, self.w)\n",
    "            loss = self.calc_loss(X, y, y_pred)\n",
    "            grad = self.calc_gradient(X, y, y_pred)\n",
    "            self.w -= self.eta * grad\n",
    "            self.loss_history.append(loss)\n",
    "            \n",
    "            if i > 0:\n",
    "                diff = np.abs(self.w - prev_w)\n",
    "                if np.linalg.norm(diff) < self.tolerance:\n",
    "                    break\n",
    "            \n",
    "            prev_w = self.w.copy()\n",
    "        \n",
    "        return self\n",
    "    \n",
    "    def predict(self, X):\n",
    "        X = np.hstack((np.ones((X.shape[0], 1)), X))\n",
    "        return np.dot(X, self.w)\n",
    "    \n",
    "    def score(self, X, y):\n",
    "        y_pred = self.predict(X)\n",
    "        res = np.sum((y - y_pred) ** 2)\n",
    "        tot = np.sum((y - np.mean(y)) ** 2)\n",
    "        r2_score = 1 - (res / tot)\n",
    "        return r2_score\n",
    "    \n",
    "    def calc_gradient(self, X, y, y_pred):\n",
    "        return -2 * np.dot(X.T, y - y_pred) / len(y) + 2 * self.alpha * self.w\n",
    "    \n",
    "    def calc_loss(self, X, y, y_pred):\n",
    "        return np.mean((y - y_pred) ** 2) + self.alpha * np.dot(self.w, self.w)"
   ]
  },
  {
   "cell_type": "markdown",
   "metadata": {},
   "source": [
    "### RidgeRegression StochasticGradientDecent"
   ]
  },
  {
   "cell_type": "code",
   "execution_count": 32,
   "metadata": {},
   "outputs": [],
   "source": [
    "class RidgeRegressionSGD:\n",
    "    def __init__(self, alpha=0.01, eta=0.01, max_iter=10000, batch_size=32, tolerance=1e-6, random_state=42):\n",
    "        self.alpha = alpha\n",
    "        self.eta = eta\n",
    "        self.max_iter = max_iter\n",
    "        self.batch_size = batch_size\n",
    "        self.tolerance = tolerance\n",
    "        self.random_state = random_state\n",
    "        self.w = None\n",
    "        self.loss_history = []\n",
    "        \n",
    "    def fit(self, X, y):\n",
    "        \n",
    "        X = pd.DataFrame(X, index=y.index)\n",
    "        y = y.reset_index(drop=True)\n",
    "        \n",
    "        X = np.hstack((np.ones((X.shape[0], 1)), X))\n",
    "        \n",
    "        rng = np.random.default_rng(self.random_state)\n",
    "        self.w = rng.normal(size=X.shape[1])\n",
    "        \n",
    "        for i in range(self.max_iter):\n",
    "            batch_idx = rng.choice(len(y), size=self.batch_size, replace=False)\n",
    "            X_batch, y_batch = X[batch_idx], y[batch_idx]\n",
    "            y_pred = np.dot(X_batch, self.w)\n",
    "            loss = self.calc_loss(X_batch, y_batch, y_pred)\n",
    "            grad = self.calc_gradient(X_batch, y_batch, y_pred)\n",
    "            self.w -= self.eta * grad\n",
    "            self.loss_history.append(loss)\n",
    "            \n",
    "            if i > 0:\n",
    "                diff = np.abs(self.w - prev_w)\n",
    "                if np.linalg.norm(diff) < self.tolerance:\n",
    "                    break\n",
    "            \n",
    "            prev_w = self.w.copy()\n",
    "        \n",
    "        return self\n",
    "    \n",
    "    def predict(self, X):\n",
    "        X = np.hstack((np.ones((X.shape[0], 1)), X))\n",
    "        return np.dot(X, self.w)\n",
    "    \n",
    "    def score(self, X, y):\n",
    "        y_pred = self.predict(X)\n",
    "        res = np.sum((y - y_pred) ** 2)\n",
    "        tot = np.sum((y - np.mean(y)) ** 2)\n",
    "        r2_score = 1 - (res / tot)\n",
    "        return r2_score\n",
    "    \n",
    "    def calc_gradient(self, X, y, y_pred):\n",
    "        return -2 * np.dot(X.T, y - y_pred) / len(y) + 2 * self.alpha * self.w\n",
    "    \n",
    "    def calc_loss(self, X, y, y_pred):\n",
    "        return np.mean((y - y_pred) ** 2) + self.alpha * np.dot(self.w, self.w)"
   ]
  },
  {
   "cell_type": "markdown",
   "metadata": {},
   "source": [
    "### RidgeRegression Momentum method"
   ]
  },
  {
   "cell_type": "code",
   "execution_count": 33,
   "metadata": {},
   "outputs": [],
   "source": [
    "class RidgeRegressionM:\n",
    "    def __init__(self, alpha=0.01, eta=0.01, momentum=0.9, max_iter=10000, tolerance=1e-6, random_state=42):\n",
    "        self.alpha = alpha\n",
    "        self.eta = eta\n",
    "        self.momentum = momentum\n",
    "        self.max_iter = max_iter\n",
    "        self.tolerance = tolerance\n",
    "        self.random_state = random_state\n",
    "        self.w = None\n",
    "        self.loss_history = []\n",
    "        self.v = None\n",
    "        \n",
    "    def fit(self, X, y):\n",
    "        X = np.hstack((np.ones((X.shape[0], 1)), X))\n",
    "        \n",
    "        rng = np.random.default_rng(self.random_state)\n",
    "        self.w = rng.normal(size=X.shape[1])\n",
    "        self.v = np.zeros(X.shape[1])\n",
    "        \n",
    "        for i in range(self.max_iter):\n",
    "            y_pred = np.dot(X, self.w)\n",
    "            loss = self.calc_loss(X, y, y_pred)\n",
    "            grad = self.calc_gradient(X, y, y_pred)\n",
    "            self.v = self.momentum * self.v + self.eta * grad\n",
    "            self.w -= self.v\n",
    "            self.loss_history.append(loss)\n",
    "            \n",
    "            if i > 0:\n",
    "                diff = np.abs(self.w - prev_w)\n",
    "                if np.linalg.norm(diff) < self.tolerance:\n",
    "                    break\n",
    "            \n",
    "            prev_w = self.w.copy()\n",
    "        \n",
    "        return self\n",
    "    \n",
    "    def predict(self, X):\n",
    "        X = np.hstack((np.ones((X.shape[0], 1)), X))\n",
    "        return np.dot(X, self.w)\n",
    "    \n",
    "    def score(self, X, y):\n",
    "        y_pred = self.predict(X)\n",
    "        res = np.sum((y - y_pred) ** 2)\n",
    "        tot = np.sum((y - np.mean(y)) ** 2)\n",
    "        r2_score = 1 - (res / tot)\n",
    "        return r2_score\n",
    "    \n",
    "    def calc_gradient(self, X, y, y_pred):\n",
    "        return -2 * np.dot(X.T, y - y_pred) / len(y) + 2 * self.alpha * self.w\n",
    "    \n",
    "    def calc_loss(self, X, y, y_pred):\n",
    "        return np.mean((y - y_pred) ** 2) + self.alpha * np.dot(self.w, self.w)"
   ]
  },
  {
   "cell_type": "markdown",
   "metadata": {},
   "source": [
    "### RidgeRegression AdaptiveGradientDescent"
   ]
  },
  {
   "cell_type": "code",
   "execution_count": 34,
   "metadata": {},
   "outputs": [],
   "source": [
    "class RidgeRegressionA:\n",
    "    def __init__(self, alpha=1e-3, eta=1e-2, max_iter=1000, tolerance=1e-4, random_state=42):\n",
    "        self.alpha = alpha\n",
    "        self.eta = eta\n",
    "        self.max_iter = max_iter\n",
    "        self.tolerance = tolerance\n",
    "        self.random_state = random_state\n",
    "        self.w = None\n",
    "        self.loss_history = []\n",
    "        self.G = 0\n",
    "        \n",
    "    def fit(self, X, y):\n",
    "        X = np.hstack((np.ones((X.shape[0], 1)), X))\n",
    "        \n",
    "        rng = np.random.default_rng(self.random_state)\n",
    "        self.w = rng.normal(size=X.shape[1])\n",
    "        self.G = np.zeros(X.shape[1])\n",
    "        \n",
    "        for i in range(self.max_iter):\n",
    "            y_pred = np.dot(X, self.w)\n",
    "            loss = self.calc_loss(X, y, y_pred)\n",
    "            grad = self.calc_gradient(X, y, y_pred)  \n",
    "            self.G += grad**2\n",
    "            \n",
    "            self.w -= self.eta / (np.sqrt(self.G) + 1e-8) * grad\n",
    "            self.loss_history.append(loss)\n",
    "            \n",
    "            if i > 0:\n",
    "                diff = np.abs(self.w - prev_w)\n",
    "                if np.linalg.norm(diff) < self.tolerance:\n",
    "                    break\n",
    "            \n",
    "            prev_w = self.w.copy()\n",
    "        \n",
    "        return self\n",
    "    \n",
    "    def predict(self, X):\n",
    "        X = np.hstack((np.ones((X.shape[0], 1)), X))\n",
    "        return np.dot(X, self.w)\n",
    "    \n",
    "    def score(self, X, y):\n",
    "        y_pred = self.predict(X)\n",
    "        res = np.sum((y - y_pred) ** 2)\n",
    "        tot = np.sum((y - np.mean(y)) ** 2)\n",
    "        r2_score = 1 - (res / tot)\n",
    "        return r2_score\n",
    "    \n",
    "    def calc_gradient(self, X, y, y_pred):\n",
    "        return -2 * np.dot(X.T, y - y_pred) / len(y) + 2 * self.alpha * self.w\n",
    "    \n",
    "    def calc_loss(self, X, y, y_pred):\n",
    "        return np.mean((y - y_pred) ** 2) + self.alpha * np.dot(self.w, self.w)"
   ]
  },
  {
   "cell_type": "markdown",
   "metadata": {
    "id": "1QQJEjGVy-Qu"
   },
   "source": [
    "#### 7. [1 балл] Натренируйте и провалидируйте \"ручные\" модели на тех же даннных, сравните качество с моделями из Sklearn и StatsModels. Исследуйте влияние параметров `max_iter` и `alpha` на процесс оптимизации. Соответствует ли оно вашим ожиданиям?"
   ]
  },
  {
   "cell_type": "code",
   "execution_count": 35,
   "metadata": {
    "id": "rIJNcxt_y-Qu"
   },
   "outputs": [],
   "source": [
    "x_train, x_test, y_train, y_test = train_test_split(x, y, test_size=0.2, random_state=17)\n",
    "\n",
    "scaler = StandardScaler()\n",
    "x_train_scaled = scaler.fit_transform(x_train)\n",
    "x_test_scaled = scaler.transform(x_test)"
   ]
  },
  {
   "cell_type": "code",
   "execution_count": 36,
   "metadata": {},
   "outputs": [],
   "source": [
    "## Ridge из sklearn для сравнения со своими моделями\n",
    "ridge = Ridge(alpha=0.01)\n",
    "\n",
    "## мои модели\n",
    "ridge_gd = RidgeRegressionGD()\n",
    "ridge_sgd = RidgeRegressionSGD()\n",
    "ridge_m = RidgeRegressionM()\n",
    "ridge_a = RidgeRegressionA(eta=45, max_iter=10000)"
   ]
  },
  {
   "cell_type": "code",
   "execution_count": 37,
   "metadata": {},
   "outputs": [
    {
     "data": {
      "text/plain": [
       "<__main__.RidgeRegressionA at 0x2d266b409d0>"
      ]
     },
     "execution_count": 37,
     "metadata": {},
     "output_type": "execute_result"
    }
   ],
   "source": [
    "ridge.fit(x_train_scaled, y_train)\n",
    "\n",
    "ridge_gd.fit(x_train_scaled, y_train)\n",
    "ridge_sgd.fit(x_train_scaled, y_train)\n",
    "ridge_m.fit(x_train_scaled, y_train)\n",
    "ridge_a.fit(x_train_scaled, y_train)"
   ]
  },
  {
   "cell_type": "code",
   "execution_count": 38,
   "metadata": {},
   "outputs": [
    {
     "name": "stdout",
     "output_type": "stream",
     "text": [
      "sklearn ridge score = 0.8839963905664253 \n",
      "\n",
      "ridge gd score = 0.8822125366369676 \n",
      "\n",
      "ridge sgd score = 0.8820787833499759 \n",
      "\n",
      "ridge momentum score = 0.8822442231435055 \n",
      "\n",
      "ridge adagrad score = 0.8722558431127801\n"
     ]
    }
   ],
   "source": [
    "print(\"sklearn ridge score =\", ridge.score(x_test_scaled, y_test), '\\n')\n",
    "print(\"ridge gd score =\", ridge_gd.score(x_test_scaled, y_test), '\\n')\n",
    "print(\"ridge sgd score =\", ridge_sgd.score(x_test_scaled, y_test), '\\n')\n",
    "print(\"ridge momentum score =\", ridge_m.score(x_test_scaled, y_test), '\\n')\n",
    "print(\"ridge adagrad score =\", ridge_a.score(x_test_scaled, y_test))"
   ]
  },
  {
   "cell_type": "markdown",
   "metadata": {},
   "source": [
    "Что касается гиперпараметров **max_iter** и **alpha**:\n",
    "\n",
    "**max_iter**: максимальное количество итераций, которое выполнит алгоритм градиентного спуска в процессе обучения, прежде чем остановиться. При увеличении этого гиперпараметра, веса нашей модели могут быть вычислены так, что модель будет лучше предсказывать целевую переменную. Особенно хорошо это можно проследить на моделе с адаптивным градиентным спуском. Пока другие модели очень быстро сходятся и показывают достаточно неплохие результаты буквально после 100 итераций, скор модели с адаптивным градиентным спуском будет расти при увеличении параметра **max_iter** вплоть до 10000.\n",
    "\n",
    "**alpha**: в моих моделях параметр **alpha** отвечает за степень регуляризации. Он умножается на L2-норму вектора коэффициентов, и чем больше значение alpha, тем больше штраф за регуляризацию. Увеличение **alpha** приводит к более жесткой модели, что может помочь предотвратить переобучение, уменьшив величину коэффициентов.\n",
    "\n",
    "**eta**: шаг градиентного спуска, отвечает за скорость обучения модели. Чем больше параметр **eta**, тем быстрее будет сходиться алгоритм, но слишком большое значение параметра eta может привести к перепрыгиванию глобального минимума функции потерь и дальнейшего движения в направлении уменьшения функции(но не глобального минимума), а слишком маленькое занчение наоборот может привести к застреванию в локальном минимуме."
   ]
  },
  {
   "cell_type": "markdown",
   "metadata": {
    "id": "bqYtVqv-y-Qu"
   },
   "source": [
    "#### 8. [1 балл] Постройте графики (там же) зависимости значения функции потерь от номера итерации для всех моделей (полного градиентого спуска, стохастического гс, Momentum и Adagrad). Сделайте выводы о скорости сходимости различных модификаций градиентного спуска."
   ]
  },
  {
   "cell_type": "code",
   "execution_count": 42,
   "metadata": {
    "id": "Xbwhu8BSy-Qu"
   },
   "outputs": [
    {
     "data": {
      "image/png": "[encoded data removed]",
      "text/plain": [
       "<Figure size 432x288 with 1 Axes>"
      ]
     },
     "metadata": {},
     "output_type": "display_data"
    }
   ],
   "source": [
    "plt.plot(ridge_gd.loss_history, label='Ridge Regression GD')\n",
    "plt.plot(ridge_sgd.loss_history, label='Ridge Regression SGD')\n",
    "plt.plot(ridge_m.loss_history, label='Ridge Regression Momentum')\n",
    "plt.plot(ridge_a.loss_history, label='Ridge Regression AdaGrad')\n",
    "plt.xlabel('Iteration')\n",
    "plt.ylabel('Loss')\n",
    "plt.ylim([0.5*min(min(ridge_sgd.loss_history), min(ridge_gd.loss_history), min(ridge_m.loss_history),), \n",
    "          max(max(ridge_sgd.loss_history), max(ridge_gd.loss_history), max(ridge_m.loss_history))])\n",
    "plt.xlim([-10, 100])\n",
    "plt.legend()\n",
    "plt.show()"
   ]
  },
  {
   "cell_type": "markdown",
   "metadata": {},
   "source": [
    "Все методы показывают вполне ожидаемые, и довольно хорошие результаты.\n",
    "\n",
    "**LR2 Регрессия с *алгоритомом полного градиентного спуска*** довольно быстро сходится, показывает хороший результат.\n",
    "\n",
    "**LR2 Регрессия с *алгоритмом стохастического градиентного спуска*** сходится не намного быстрее, однако тоже показывает довольно хороший результат. Скорее всего при работе с датасетом с большим количеством наблюдений и данными большей размерности стохастический градиентный спуск будет более явно быстрее сходится чем полный градиентный спуск.\n",
    "\n",
    "**LR2 Регрессия c *Momentum method***  сходится быстрее всего потому что на каждой итерации алгоритм учитывает не только текущий градиент, но и предыдущие градиенты, накопленные в предыдущих итерациях. Это позволяет алгоритму сохранять импульс движения в направлении глобального минимума и ускорять движение вдоль оси, вдоль которой градиент меняется согласованно.\n",
    "\n",
    "**LR2 Регрессия с *адаптивным градиентным спуском*** после обучения с 10000 итераций выдает хороший score, но этот метод очень медленно сходится."
   ]
  }
 ],
 "metadata": {
  "colab": {
   "provenance": []
  },
  "kernelspec": {
   "display_name": "Python 3 (ipykernel)",
   "language": "python",
   "name": "python3"
  },
  "language_info": {
   "codemirror_mode": {
    "name": "ipython",
    "version": 3
   },
   "file_extension": ".py",
   "mimetype": "text/x-python",
   "name": "python",
   "nbconvert_exporter": "python",
   "pygments_lexer": "ipython3",
   "version": "3.9.12"
  }
 },
 "nbformat": 4,
 "nbformat_minor": 1
}
