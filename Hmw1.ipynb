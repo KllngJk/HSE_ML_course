{
 "cells": [
  {
   "cell_type": "markdown",
   "metadata": {
    "id": "IrmH_uV0u_i0"
   },
   "source": [
    "# HSE 2023: Введение в машинное обучение БИ 22/23\n",
    "\n",
    "## ДЗ 1"
   ]
  },
  {
   "cell_type": "markdown",
   "metadata": {
    "id": "WcoDnmABu_i1"
   },
   "source": [
    "### Внимание!\n",
    "* Если в задании просят объяснить что-либо, то это значит, что требуется **письменный ответ**, который **является** частью задания и оценивается\n",
    "* **Не** загружайте датасет (titanic.csv) в тестирующую систему (он у нас и так есть)\n",
    "* Мы **только** принимаем **ipynb** ноутбуки. Если вы используете Google Colab, то вам необходимо скачать ноутбук перед сдачей ДЗ\n",
    "* **Не** используйте циклы python вместо векторных операций NumPy над векторами NumPy - это сильно влияет на производительность (можете почитать почему https://blog.paperspace.com/numpy-optimization-vectorization-and-broadcasting/), наказывается -0.25 за **каждое** задание. Циклы разрешены только в части 1 (Задания 1 - 4). \n",
    "* Некоторые задания содержат тесты. Они тестируют ваше решение только для простых случаев. Таким образом, прохождение теста, **не** гарантирует полной оценки за задание. "
   ]
  },
  {
   "cell_type": "code",
   "execution_count": 1,
   "metadata": {
    "id": "ObtgG7t_u_i1"
   },
   "outputs": [],
   "source": [
    "%matplotlib inline\n",
    "import numpy as np\n",
    "import pandas as pd\n",
    "import matplotlib.pyplot as plt\n",
    "import seaborn as sns"
   ]
  },
  {
   "cell_type": "markdown",
   "metadata": {
    "id": "idyGotcwu_i1"
   },
   "source": [
    "# 1. Python (2 балла) "
   ]
  },
  {
   "cell_type": "markdown",
   "metadata": {
    "id": "dxBU_eBUu_i2"
   },
   "source": [
    "**Задание 1** (0.5 балла)<br/> \n",
    "Даны ненулевые числа `a`,  `r` и `N`. Найдите произведение первых `N` членов геометрической прогрессии с первым членом `a` и множителем `r` без использования формулы для произведения первых `N` членов"
   ]
  },
  {
   "cell_type": "code",
   "execution_count": 4,
   "metadata": {
    "id": "TQbn2PgKu_i2"
   },
   "outputs": [
    {
     "name": "stdout",
     "output_type": "stream",
     "text": [
      "1889568\n"
     ]
    }
   ],
   "source": [
    "def find_product(a,r,N):\n",
    "    arr_product = 1\n",
    "    for i in range(N):\n",
    "        arr_product *= a\n",
    "        a *= r\n",
    "    return arr_product\n",
    "\n",
    "a = 2\n",
    "r = 3\n",
    "N = 5\n",
    "print(find_product(a,r,N))"
   ]
  },
  {
   "cell_type": "markdown",
   "metadata": {
    "id": "gspEVSEMu_i2"
   },
   "source": [
    "**Задание 2** (0.5 балла) <br/> \n",
    "Дано целое число `N`. Проверьте является ли оно палиндромом. Это значит, что число читается одинаково слева направо и справа налево. "
   ]
  },
  {
   "cell_type": "code",
   "execution_count": 5,
   "metadata": {
    "id": "eEcqsleju_i2"
   },
   "outputs": [
    {
     "name": "stdout",
     "output_type": "stream",
     "text": [
      "3 True\n",
      "81 False\n",
      "111 True\n",
      "113 False\n",
      "810 False\n",
      "2022 False\n",
      "4774 True\n",
      "51315 True\n",
      "611816 False\n"
     ]
    }
   ],
   "source": [
    "def check_palindrome(N):\n",
    "    if str(N)==str(N)[::-1]:\n",
    "        check_palindrome = True\n",
    "    else:\n",
    "        check_palindrome = False\n",
    "    return check_palindrome\n",
    "\n",
    "for N in [3, 81, 111, 113, 810, 2022, 4774, 51315, 611816]:\n",
    "    print(N, check_palindrome(N))"
   ]
  },
  {
   "cell_type": "markdown",
   "metadata": {
    "id": "WetE-7MDu_i2"
   },
   "source": [
    "**Задание 3** (0.5 балла) <br/> \n",
    "Найдите первые `N` палиндромов для чисел, начинающихся от 1000 (вы можете использовать функцию из предыдущего задания)."
   ]
  },
  {
   "cell_type": "code",
   "execution_count": 9,
   "metadata": {
    "id": "13myo0gsu_i2"
   },
   "outputs": [
    {
     "name": "stdout",
     "output_type": "stream",
     "text": [
      "[1001, 1111, 1221, 1331, 1441]\n",
      "[1001, 1111, 1221, 1331, 1441, 1551, 1661, 1771, 1881, 1991]\n"
     ]
    }
   ],
   "source": [
    "def find_palindromes(N):\n",
    "    palindromes = []\n",
    "    num = 1000\n",
    "    while len(palindromes) < N:\n",
    "        if check_palindrome(num):\n",
    "            palindromes.append(num)\n",
    "        num +=1\n",
    "    return palindromes\n",
    "\n",
    "print(find_palindromes(5))\n",
    "print(find_palindromes(10))\n",
    "#print(find_palindromes(1000))"
   ]
  },
  {
   "cell_type": "markdown",
   "metadata": {
    "id": "QdDoCHCru_i2"
   },
   "source": [
    "**Задание 4** (0.5 балла) <br/> \n",
    "Даны числа: `a`, `b`, `c`. Без использования функций `min`, `max` и других, найдите минимальное."
   ]
  },
  {
   "cell_type": "code",
   "execution_count": 10,
   "metadata": {
    "id": "5iVQkAGZu_i2"
   },
   "outputs": [
    {
     "name": "stdout",
     "output_type": "stream",
     "text": [
      "-6 -41 17 \tMinimum: -41\n",
      "91 -90 -54 \tMinimum: -90\n",
      "-98 59 -93 \tMinimum: -98\n",
      "12 32 79 \tMinimum: 12\n",
      "-6 -54 -97 \tMinimum: -97\n",
      "-64 -79 -66 \tMinimum: -79\n",
      "64 95 85 \tMinimum: 64\n",
      "4 11 72 \tMinimum: 4\n",
      "-50 -25 -67 \tMinimum: -67\n",
      "67 56 48 \tMinimum: 48\n"
     ]
    }
   ],
   "source": [
    "from random import randint\n",
    "\n",
    "def find_min(*args):\n",
    "    min_ = args[0]\n",
    "    for i in range(1, len(args)):\n",
    "        if args[i] < min_:\n",
    "            min_ = args[i]\n",
    "    return min_\n",
    "\n",
    "for i in range(10):\n",
    "    \n",
    "    a = randint(-100, 100)\n",
    "    b = randint(-100, 100)\n",
    "    c = randint(-100, 100)\n",
    "    \n",
    "    print(a, b, c, '\\tMinimum:', find_min(a, b, c))"
   ]
  },
  {
   "cell_type": "markdown",
   "metadata": {
    "id": "yIksU4iVu_i2"
   },
   "source": [
    "# 2. Numpy (4 балла)"
   ]
  },
  {
   "cell_type": "markdown",
   "metadata": {
    "id": "VQw-52COu_i3"
   },
   "source": [
    "**Задание 1** (0.5 балла) <br/>\n",
    "Создайте случайный numpy вектор (`np.random.rand()`) длины 17 и с суммой элементов равной 6."
   ]
  },
  {
   "cell_type": "code",
   "execution_count": 11,
   "metadata": {
    "id": "gjdtC0VCu_i3"
   },
   "outputs": [
    {
     "name": "stdout",
     "output_type": "stream",
     "text": [
      "Length: 17\n",
      "Sum of elements: 6.0\n"
     ]
    }
   ],
   "source": [
    "my_array = np.random.rand(17)\n",
    "my_array = my_array / my_array.sum() * 6\n",
    "print(f'Length: {len(my_array)}')\n",
    "print(f'Sum of elements: {np.sum(my_array)}')"
   ]
  },
  {
   "cell_type": "markdown",
   "metadata": {
    "id": "5Lb84IeOu_i3"
   },
   "source": [
    "**Задание 2** (0.5 балла) <br/>\n",
    "Создайте два случайных вектора $a$ и $b$ одинаковой длины. \n",
    "\n",
    "Расчитайте следующие расстояния между векторами **без использования специальных функций. Вы можете использовать только базовые операции numpy  (`np.linalg.*` и другие высокоуровневые методы и пакеты запрещены).**:\n",
    "\n",
    "* Manhattan\n",
    "$$ d(a, b) = \\sum_i |a_i - b_i| $$\n",
    "* Euclidean\n",
    "$$ d(a, b) = \\sqrt{\\sum_i (a_i - b_i)^2} $$\n",
    "* Chebyshev\n",
    "$$ d(a, b) = \\underset{i}{max} |a_i - b_i| $$\n",
    "* Cosine\n",
    "$$ d(a, b) = 1 - \\frac{a^\\top b}{||a||_2\\cdot||b||_2} $$\n"
   ]
  },
  {
   "cell_type": "code",
   "execution_count": 12,
   "metadata": {
    "id": "3i1qjTf_u_i3"
   },
   "outputs": [],
   "source": [
    "def calculate_manhattan(a, b):    \n",
    "    distance = np.abs(a - b).sum()\n",
    "    return distance\n",
    "\n",
    "def calculate_euclidean(a, b):    \n",
    "    distance = np.sqrt(((a - b) ** 2).sum())\n",
    "    return distance\n",
    "\n",
    "def calculate_chebyshev(a, b):    \n",
    "    distance = np.abs(a - b).max()\n",
    "    return distance\n",
    "\n",
    "def calculate_cosine(a, b):    \n",
    "    cosine_similarity = 1 - np.dot(a, b) / (np.sqrt(np.dot(a, a)) * np.sqrt(np.dot(b, b)))\n",
    "    distance = 1 - cosine_similarity\n",
    "    return distance"
   ]
  },
  {
   "cell_type": "code",
   "execution_count": 13,
   "metadata": {
    "id": "kyU2jHw-u_i3"
   },
   "outputs": [
    {
     "name": "stdout",
     "output_type": "stream",
     "text": [
      "Manhattan distance: 2.5702260615862684\n",
      "Euclidean distance: 0.9456404391451337\n",
      "Chebyshev distance: 0.48215464364009974\n",
      "Cosine distance: 0.822035818945446\n"
     ]
    }
   ],
   "source": [
    "a = np.random.rand(10)\n",
    "b = np.random.rand(10)\n",
    "print(f'Manhattan distance: {calculate_manhattan(a, b)}')\n",
    "print(f'Euclidean distance: {calculate_euclidean(a, b)}')\n",
    "print(f'Chebyshev distance: {calculate_chebyshev(a, b)}')\n",
    "print(f'Cosine distance: {calculate_cosine(a, b)}')"
   ]
  },
  {
   "cell_type": "markdown",
   "metadata": {
    "id": "pKx7nOIDu_i3"
   },
   "source": [
    "**Задание 3** (0.5 балла) <br/>\n",
    "Создайте случайный вектор (`np.random.randint()`) длины 76. Трансформируйте вектор так, чтобы после преобразования он имел следующие свойства \n",
    "* Максимальный элемент -1\n",
    "* Минимальный элемент -4\n",
    "* Оставшиеся значения в интервале (-4; -1) без изменения относительного порядка ([1, 2, 4] -> [0.1, 0.2, 0.4] - порядок сохранен)"
   ]
  },
  {
   "cell_type": "code",
   "execution_count": 14,
   "metadata": {
    "id": "2LCEp7Yru_i3"
   },
   "outputs": [],
   "source": [
    "def transform(array):\n",
    "    min_val = np.min(array)\n",
    "    max_val = np.max(array)\n",
    "    normalized_array = (array - min_val) / (max_val - min_val)\n",
    "    transformed_array = 3 * normalized_array - 4\n",
    "    return transformed_array"
   ]
  },
  {
   "cell_type": "code",
   "execution_count": 15,
   "metadata": {
    "id": "VeERsV55u_i3"
   },
   "outputs": [
    {
     "name": "stdout",
     "output_type": "stream",
     "text": [
      "Min: -4.0\n",
      "Max: -1.0\n",
      "Array:\n",
      "[-3.4 -1.3 -2.2 -3.1 -3.7 -1.  -1.  -3.1 -3.7 -1.3 -2.5 -1.9 -2.8 -1.6\n",
      " -3.4 -3.7 -4.  -1.  -2.2 -3.1 -3.7 -3.4 -4.  -1.6 -4.  -1.6 -4.  -1.6\n",
      " -3.7 -3.1 -1.9 -4.  -1.6 -2.8 -2.2 -1.6 -2.5 -1.  -3.4 -4.  -4.  -1.9\n",
      " -3.7 -2.2 -3.7 -1.  -2.8 -1.3 -2.2 -1.6 -3.4 -2.5 -1.9 -2.8 -3.7 -1.9\n",
      " -2.5 -2.2 -1.3 -1.3 -3.7 -3.4 -1.6 -1.9 -1.  -2.2 -1.  -1.  -1.  -1.9\n",
      " -2.8 -3.1 -1.  -1.  -2.5 -3.1]\n"
     ]
    }
   ],
   "source": [
    "my_array = x = np.random.randint(0, 11, 76)\n",
    "my_array = transform(my_array)\n",
    "print(f'Min: {np.min(my_array)}')\n",
    "print(f'Max: {np.max(my_array)}')\n",
    "print('Array:')\n",
    "print(my_array)"
   ]
  },
  {
   "cell_type": "markdown",
   "metadata": {
    "id": "ikj1TzBou_i4"
   },
   "source": [
    "**Задание 4** (0.5 балла) <br/>\n",
    "Создайте матрицу размерности $8 \\times 5$ с целыми числами из промежутка [-7, 43]. Выведите колонку, которая содержит максимальный элемент матрицы."
   ]
  },
  {
   "cell_type": "code",
   "execution_count": 16,
   "metadata": {
    "id": "L9gUC6muu_i4"
   },
   "outputs": [
    {
     "name": "stdout",
     "output_type": "stream",
     "text": [
      "Shape:  (8, 5)\n",
      "Array:\n",
      "[[27 -3 27 22 22]\n",
      " [30 -6 39 25 -7]\n",
      " [ 2 31 -4 37 15]\n",
      " [ 7 16  3 -2 17]\n",
      " [30 37  0 24 -7]\n",
      " [ 5 -4 -4 -3 12]\n",
      " [36 35 22 -3 22]\n",
      " [ 6 32  4  4 28]]\n",
      "Selected column: 2\n"
     ]
    }
   ],
   "source": [
    "my_array = np.random.randint(-7, 43, size=(8, 5))\n",
    "selected_column = np.argmax(my_array) % 5\n",
    "print('Shape: ', my_array.shape)\n",
    "print('Array:')\n",
    "print(my_array)\n",
    "print(f'Selected column: {selected_column}')"
   ]
  },
  {
   "cell_type": "markdown",
   "metadata": {
    "id": "ELUgWbuCu_i4"
   },
   "source": [
    "**Задание 5** (0.5 балла) <br/>\n",
    "\n",
    "Замените все пропущенные значения на медиану."
   ]
  },
  {
   "cell_type": "code",
   "execution_count": 42,
   "metadata": {
    "id": "HdCSNq6su_i4"
   },
   "outputs": [
    {
     "name": "stdout",
     "output_type": "stream",
     "text": [
      "Array:\n",
      "[       nan 0.64166425        nan        nan 0.02138261 0.02934687\n",
      " 0.69090395 0.76441511 0.76123019 0.09106305]\n"
     ]
    }
   ],
   "source": [
    "arr = np.random.rand(10)\n",
    "idx = np.random.randint(0, 10, 4)\n",
    "arr[idx] = np.nan\n",
    "\n",
    "print('Array:')\n",
    "print(arr)"
   ]
  },
  {
   "cell_type": "code",
   "execution_count": 43,
   "metadata": {
    "id": "1x0lLJIou_i4"
   },
   "outputs": [],
   "source": [
    "def replace_missing(arr):\n",
    "    array_without_missing = arr.copy()\n",
    "    mask = np.isnan(array_without_missing)\n",
    "    median = np.median(array_without_missing[~mask])\n",
    "    array_without_missing[mask] = median\n",
    "    return array_without_missing"
   ]
  },
  {
   "cell_type": "code",
   "execution_count": 44,
   "metadata": {
    "id": "YNM2wugsu_i4"
   },
   "outputs": [
    {
     "name": "stdout",
     "output_type": "stream",
     "text": [
      "Array with no missing values:\n",
      "[0.64166425 0.64166425 0.64166425 0.64166425 0.02138261 0.02934687\n",
      " 0.69090395 0.76441511 0.76123019 0.09106305]\n"
     ]
    }
   ],
   "source": [
    "arr = replace_missing(arr)\n",
    "print('Array with no missing values:')\n",
    "print(arr)"
   ]
  },
  {
   "cell_type": "markdown",
   "metadata": {
    "id": "VAyCrq0pu_i4"
   },
   "source": [
    "**Задание 6** (0.5 балла) <br/>\n",
    "Создайте функцию, которая принимает на вход картинку ```X``` (3D вектор размерности (n, m, 3)) и возвращает среднее по всем 3 каналам (вектор размерности 3)."
   ]
  },
  {
   "cell_type": "code",
   "execution_count": 47,
   "metadata": {
    "id": "reopsWZhu_i4"
   },
   "outputs": [],
   "source": [
    "def mean_channel(X):\n",
    "    mean1 = np.mean(X[:, :, 0])\n",
    "    mean2 = np.mean(X[:, :, 1])\n",
    "    mean3 = np.mean(X[:, :, 2])\n",
    "    return np.array([mean1, mean2, mean3])"
   ]
  },
  {
   "cell_type": "code",
   "execution_count": 48,
   "metadata": {},
   "outputs": [
    {
     "name": "stdout",
     "output_type": "stream",
     "text": [
      "Vector of means: [-1.9610984  -2.36155606 -2.11441648]\n"
     ]
    }
   ],
   "source": [
    "n = 19\n",
    "m = 23\n",
    "X =  np.random.randint(-11, 8, size=(n, m, 3))\n",
    "\n",
    "print(f'Vector of means: {mean_channel(X)}')"
   ]
  },
  {
   "cell_type": "markdown",
   "metadata": {
    "id": "zNVfuaw8u_i4"
   },
   "source": [
    "**Задание 7** (1 балл) <br/>\n",
    "Создайте функцию, которая принимает 3D вектор ```X``` на вход и возвращает все уникальные слои по 1 оси.\n",
    "\n",
    "Пример входных данных:\n",
    "\n",
    "     ([[[1, 2, 3],\n",
    "        [1, 2, 3],\n",
    "        [1, 2, 3]],\n",
    "\n",
    "       [[4, 5, 6],\n",
    "        [4, 5, 7]\n",
    "        [4, 5, 6]],\n",
    "\n",
    "       [[7, 8, 9],\n",
    "        [7, 8, 9]\n",
    "        [7, 8, 9]]])\n",
    "        \n",
    "Пример выходных:\n",
    "\n",
    "     ([[[1, 2, 3],\n",
    "        [1, 2, 3]],\n",
    "\n",
    "       [[4, 5, 6],\n",
    "        [4, 5, 7]],\n",
    "\n",
    "       [[7, 8, 9],\n",
    "        [7, 8, 9]]])"
   ]
  },
  {
   "cell_type": "code",
   "execution_count": 49,
   "metadata": {
    "id": "WK2AxWP9u_i4"
   },
   "outputs": [],
   "source": [
    "def get_unique_columns(X):\n",
    "    X_unique = np.unique(X, axis=1)\n",
    "    return X_unique\n",
    "\n",
    "def get_unique_columns(X):\n",
    "    unique_cols = []\n",
    "    for j in range(X.shape[1]):\n",
    "        col = X[:, j, :]\n",
    "        is_unique = True\n",
    "        for unique_col in unique_cols:\n",
    "            if np.array_equal(unique_col, col):\n",
    "                is_unique = False\n",
    "                break\n",
    "        if is_unique:\n",
    "            unique_cols.append(col)\n",
    "        X_unique = np.stack(unique_cols, axis=1)\n",
    "    return X_unique"
   ]
  },
  {
   "cell_type": "code",
   "execution_count": 59,
   "metadata": {
    "id": "n2OWA2e2u_i4"
   },
   "outputs": [
    {
     "name": "stdout",
     "output_type": "stream",
     "text": [
      "Matrix:\n",
      "[[[5 4 4]\n",
      "  [4 5 4]\n",
      "  [5 5 4]]\n",
      "\n",
      " [[5 5 4]\n",
      "  [4 4 4]\n",
      "  [5 4 4]]\n",
      "\n",
      " [[4 5 5]\n",
      "  [5 5 5]\n",
      "  [5 4 5]]\n",
      "\n",
      " [[4 4 4]\n",
      "  [5 5 5]\n",
      "  [4 5 5]]]\n",
      "Unique rows:\n"
     ]
    },
    {
     "data": {
      "text/plain": [
       "array([[[5, 4, 4],\n",
       "        [4, 5, 4],\n",
       "        [5, 5, 4]],\n",
       "\n",
       "       [[5, 5, 4],\n",
       "        [4, 4, 4],\n",
       "        [5, 4, 4]],\n",
       "\n",
       "       [[4, 5, 5],\n",
       "        [5, 5, 5],\n",
       "        [5, 4, 5]],\n",
       "\n",
       "       [[4, 4, 4],\n",
       "        [5, 5, 5],\n",
       "        [4, 5, 5]]])"
      ]
     },
     "execution_count": 59,
     "metadata": {},
     "output_type": "execute_result"
    }
   ],
   "source": [
    "X =  np.random.randint(4, 6, size=(4, 3, 3))\n",
    "print('Matrix:')\n",
    "print(X)\n",
    "print('Unique rows:')\n",
    "get_unique_columns(X)"
   ]
  },
  {
   "cell_type": "markdown",
   "metadata": {
    "id": "SV5MpkyRu_i4"
   },
   "source": [
    "# 3. Pandas & Visualization (4 балла)\n"
   ]
  },
  {
   "cell_type": "markdown",
   "metadata": {
    "id": "etPZTWr3u_i4"
   },
   "source": [
    "Вам предстоит работа с датасетом *Titanic*, который содержит информацию о пассажирах Титаника:\n",
    "- **Survived** - 1 - выжил, 0 - умер (0); **Целевая переменная**\n",
    "- **pclass** - класс пассажира;\n",
    "- **sex** - пол пассажира\n",
    "- **Age** - возраст пассажира в годах\n",
    "- **sibsp**    - есть ли на борту братья и сестры   \n",
    "- **parch**    - есть ли на борту родители или дети\n",
    "- **ticket** - номер билета    \n",
    "- **fare** - цена билета    \n",
    "- **cabin** - номер каюты\n",
    "- **embarked** - порт посадки; C = Cherbourg, Q = Queenstown, S = Southampton\n",
    "\n",
    "**Заметка** Для всех визуализаций используйте  matplotlib или seaborn, но НЕ plotly! Графики Plotly иногда исчезают после сохранения. В этом случае задание оценено не будет.\n",
    "\n",
    "**Заметка** все ваши ответы должны быть поддержаны необходимым кодом, вычислениями, визуализацией и объяснениями. Ответы без кода и объяснений оцениваться не будут.\n",
    "\n",
    "**Задание 0** (0 баллов) \\\n",
    "Загрузите датасет и выведите первые 5 строк"
   ]
  },
  {
   "cell_type": "code",
   "execution_count": 60,
   "metadata": {
    "id": "WjVXWqhZu_i5"
   },
   "outputs": [
    {
     "data": {
      "text/html": [
       "<div>\n",
       "<style scoped>\n",
       "    .dataframe tbody tr th:only-of-type {\n",
       "        vertical-align: middle;\n",
       "    }\n",
       "\n",
       "    .dataframe tbody tr th {\n",
       "        vertical-align: top;\n",
       "    }\n",
       "\n",
       "    .dataframe thead th {\n",
       "        text-align: right;\n",
       "    }\n",
       "</style>\n",
       "<table border=\"1\" class=\"dataframe\">\n",
       "  <thead>\n",
       "    <tr style=\"text-align: right;\">\n",
       "      <th></th>\n",
       "      <th>survived</th>\n",
       "      <th>pclass</th>\n",
       "      <th>name</th>\n",
       "      <th>sex</th>\n",
       "      <th>age</th>\n",
       "      <th>sibsp</th>\n",
       "      <th>parch</th>\n",
       "      <th>ticket</th>\n",
       "      <th>fare</th>\n",
       "      <th>cabin</th>\n",
       "      <th>embarked</th>\n",
       "    </tr>\n",
       "  </thead>\n",
       "  <tbody>\n",
       "    <tr>\n",
       "      <th>0</th>\n",
       "      <td>0</td>\n",
       "      <td>3</td>\n",
       "      <td>Braund, Mr. Owen Harris</td>\n",
       "      <td>male</td>\n",
       "      <td>22.0</td>\n",
       "      <td>1</td>\n",
       "      <td>0</td>\n",
       "      <td>A/5 21171</td>\n",
       "      <td>7.2500</td>\n",
       "      <td>NaN</td>\n",
       "      <td>S</td>\n",
       "    </tr>\n",
       "    <tr>\n",
       "      <th>1</th>\n",
       "      <td>1</td>\n",
       "      <td>1</td>\n",
       "      <td>Cumings, Mrs. John Bradley (Florence Briggs Th...</td>\n",
       "      <td>female</td>\n",
       "      <td>38.0</td>\n",
       "      <td>1</td>\n",
       "      <td>0</td>\n",
       "      <td>PC 17599</td>\n",
       "      <td>71.2833</td>\n",
       "      <td>C85</td>\n",
       "      <td>C</td>\n",
       "    </tr>\n",
       "    <tr>\n",
       "      <th>2</th>\n",
       "      <td>1</td>\n",
       "      <td>3</td>\n",
       "      <td>Heikkinen, Miss. Laina</td>\n",
       "      <td>female</td>\n",
       "      <td>26.0</td>\n",
       "      <td>0</td>\n",
       "      <td>0</td>\n",
       "      <td>STON/O2. 3101282</td>\n",
       "      <td>7.9250</td>\n",
       "      <td>NaN</td>\n",
       "      <td>S</td>\n",
       "    </tr>\n",
       "    <tr>\n",
       "      <th>3</th>\n",
       "      <td>1</td>\n",
       "      <td>1</td>\n",
       "      <td>Futrelle, Mrs. Jacques Heath (Lily May Peel)</td>\n",
       "      <td>female</td>\n",
       "      <td>35.0</td>\n",
       "      <td>1</td>\n",
       "      <td>0</td>\n",
       "      <td>113803</td>\n",
       "      <td>53.1000</td>\n",
       "      <td>C123</td>\n",
       "      <td>S</td>\n",
       "    </tr>\n",
       "    <tr>\n",
       "      <th>4</th>\n",
       "      <td>0</td>\n",
       "      <td>3</td>\n",
       "      <td>Allen, Mr. William Henry</td>\n",
       "      <td>male</td>\n",
       "      <td>35.0</td>\n",
       "      <td>0</td>\n",
       "      <td>0</td>\n",
       "      <td>373450</td>\n",
       "      <td>8.0500</td>\n",
       "      <td>NaN</td>\n",
       "      <td>S</td>\n",
       "    </tr>\n",
       "  </tbody>\n",
       "</table>\n",
       "</div>"
      ],
      "text/plain": [
       "   survived  pclass                                               name  \\\n",
       "0         0       3                            Braund, Mr. Owen Harris   \n",
       "1         1       1  Cumings, Mrs. John Bradley (Florence Briggs Th...   \n",
       "2         1       3                             Heikkinen, Miss. Laina   \n",
       "3         1       1       Futrelle, Mrs. Jacques Heath (Lily May Peel)   \n",
       "4         0       3                           Allen, Mr. William Henry   \n",
       "\n",
       "      sex   age  sibsp  parch            ticket     fare cabin embarked  \n",
       "0    male  22.0      1      0         A/5 21171   7.2500   NaN        S  \n",
       "1  female  38.0      1      0          PC 17599  71.2833   C85        C  \n",
       "2  female  26.0      0      0  STON/O2. 3101282   7.9250   NaN        S  \n",
       "3  female  35.0      1      0            113803  53.1000  C123        S  \n",
       "4    male  35.0      0      0            373450   8.0500   NaN        S  "
      ]
     },
     "execution_count": 60,
     "metadata": {},
     "output_type": "execute_result"
    }
   ],
   "source": [
    "dataset = pd.read_csv('C:/Users/Egor/Desktop/jupyter/hse_ml_course/Datasets/titanic.csv')\n",
    "#dataset = sns.load_dataset(\"titanic\")\n",
    "dataset.head(5)"
   ]
  },
  {
   "cell_type": "markdown",
   "metadata": {
    "id": "u1DLMGZau_i5"
   },
   "source": [
    "**Задание 1** (1 балл) <br/>\n",
    "Ответьте на следующие вопросы:\n",
    "    \n",
    "    * Есть ли в датасете пропущенные значения? В каких колонках?\n",
    "    * Какой процент пассажирова выжил? Сбалансированы ли классы пассажиров?\n",
    "    * Кого больше, мужчин или женщин?\n",
    "    * Какой наименее популярный порт посадки?\n",
    "    * Сколько классов пассажиров (pclass) было на титанике?\n",
    "    * Какова средняя цена билета? И средняя цена в зависимости от класса пассажира?\n",
    "Пожалуйста, указывайте не только ответ, но и код, с помощью которого вы его получили."
   ]
  },
  {
   "cell_type": "markdown",
   "metadata": {
    "id": "c_xdEapMu_i5"
   },
   "source": [
    "* **Есть ли в датасете пропущенные значения? В каких колонках?**\n",
    ">Да, есть в колонках age, deck, embark_town"
   ]
  },
  {
   "cell_type": "code",
   "execution_count": 61,
   "metadata": {},
   "outputs": [
    {
     "name": "stdout",
     "output_type": "stream",
     "text": [
      "survived      0\n",
      "pclass        0\n",
      "name          0\n",
      "sex           0\n",
      "age         177\n",
      "sibsp         0\n",
      "parch         0\n",
      "ticket        0\n",
      "fare          0\n",
      "cabin       687\n",
      "embarked      2\n",
      "dtype: int64\n"
     ]
    }
   ],
   "source": [
    "print(dataset.isnull().sum())"
   ]
  },
  {
   "cell_type": "markdown",
   "metadata": {},
   "source": [
    "* **Какой процент пассажирова выжил?**\n",
    ">38 "
   ]
  },
  {
   "cell_type": "code",
   "execution_count": 62,
   "metadata": {},
   "outputs": [
    {
     "name": "stdout",
     "output_type": "stream",
     "text": [
      "Процент выживших пассажиров: 38%\n"
     ]
    }
   ],
   "source": [
    "survived_percentage = dataset['survived'].mean() * 100\n",
    "print(\"Процент выживших пассажиров: {:.0f}%\".format(survived_percentage))"
   ]
  },
  {
   "cell_type": "markdown",
   "metadata": {},
   "source": [
    "* **Сбалансированы ли классы пассажиров?** \n",
    ">нет, не сбалансированы"
   ]
  },
  {
   "cell_type": "code",
   "execution_count": 63,
   "metadata": {},
   "outputs": [
    {
     "name": "stdout",
     "output_type": "stream",
     "text": [
      "Сбалансированы ли классы пассажиров:\n",
      "3    491\n",
      "1    216\n",
      "2    184\n",
      "Name: pclass, dtype: int64\n"
     ]
    }
   ],
   "source": [
    "class_counts = dataset['pclass'].value_counts()\n",
    "print(\"Сбалансированы ли классы пассажиров:\")\n",
    "print(class_counts)"
   ]
  },
  {
   "cell_type": "markdown",
   "metadata": {},
   "source": [
    "* **Кого больше, мужчин или женщин?**\n",
    ">мужчин, на 577-314 больше"
   ]
  },
  {
   "cell_type": "code",
   "execution_count": 64,
   "metadata": {},
   "outputs": [
    {
     "name": "stdout",
     "output_type": "stream",
     "text": [
      "male      577\n",
      "female    314\n",
      "Name: sex, dtype: int64\n"
     ]
    }
   ],
   "source": [
    "print(dataset[\"sex\"].value_counts())"
   ]
  },
  {
   "cell_type": "markdown",
   "metadata": {},
   "source": [
    "* **Какой наименее популярный порт посадки?**\n",
    ">Queenstown(Q)"
   ]
  },
  {
   "cell_type": "code",
   "execution_count": 65,
   "metadata": {},
   "outputs": [
    {
     "name": "stdout",
     "output_type": "stream",
     "text": [
      "S    644\n",
      "C    168\n",
      "Q     77\n",
      "Name: embarked, dtype: int64\n"
     ]
    }
   ],
   "source": [
    "print(dataset[\"embarked\"].value_counts())"
   ]
  },
  {
   "cell_type": "markdown",
   "metadata": {},
   "source": [
    "* **Сколько классов пассажиров (pclass) было на титанике?**\n",
    ">3"
   ]
  },
  {
   "cell_type": "code",
   "execution_count": 66,
   "metadata": {},
   "outputs": [
    {
     "name": "stdout",
     "output_type": "stream",
     "text": [
      "Количество классов пассажиров: 3 \n"
     ]
    }
   ],
   "source": [
    "pclass_count = dataset[\"pclass\"].nunique()\n",
    "print(\"Количество классов пассажиров: {:} \".format(pclass_count))"
   ]
  },
  {
   "cell_type": "markdown",
   "metadata": {},
   "source": [
    "* **Какова средняя цена билета?**\n",
    ">32.20"
   ]
  },
  {
   "cell_type": "code",
   "execution_count": 67,
   "metadata": {},
   "outputs": [
    {
     "name": "stdout",
     "output_type": "stream",
     "text": [
      "Средняя цена билета: 32.20 фунтов? \n"
     ]
    }
   ],
   "source": [
    "mean_price = dataset[\"fare\"].mean()\n",
    "print(\"Средняя цена билета: {:.2f} фунтов? \".format(mean_price))"
   ]
  },
  {
   "cell_type": "markdown",
   "metadata": {},
   "source": [
    "* **И средняя цена в зависимости от класса пассажира?**\n",
    "> **1** - *84.57*, **2** - *20.66*, **3** - *13.67*"
   ]
  },
  {
   "cell_type": "code",
   "execution_count": 68,
   "metadata": {},
   "outputs": [
    {
     "name": "stdout",
     "output_type": "stream",
     "text": [
      "pclass\n",
      "1    84.154687\n",
      "2    20.662183\n",
      "3    13.675550\n",
      "Name: fare, dtype: float64\n"
     ]
    }
   ],
   "source": [
    "print(dataset.groupby(\"pclass\")[\"fare\"].mean())"
   ]
  },
  {
   "cell_type": "markdown",
   "metadata": {},
   "source": [
    "## или"
   ]
  },
  {
   "cell_type": "code",
   "execution_count": 69,
   "metadata": {},
   "outputs": [
    {
     "name": "stdout",
     "output_type": "stream",
     "text": [
      "Средняя цена билета 1 класса: 84.15\n",
      "Средняя цена билета 2 класса: 20.66\n",
      "Средняя цена билета 3 класса: 13.68\n"
     ]
    }
   ],
   "source": [
    "mean_price_1 = (dataset.loc[dataset['pclass'] == 1, 'fare']).mean()\n",
    "mean_price_2 = (dataset.loc[dataset['pclass'] == 2, 'fare']).mean()\n",
    "mean_price_3 = (dataset.loc[dataset['pclass'] == 3, 'fare']).mean()\n",
    "print(\"Средняя цена билета 1 класса: {:.2f}\".format(mean_price_1))\n",
    "print(\"Средняя цена билета 2 класса: {:.2f}\".format(mean_price_2))\n",
    "print(\"Средняя цена билета 3 класса: {:.2f}\".format(mean_price_3))"
   ]
  },
  {
   "cell_type": "markdown",
   "metadata": {
    "id": "PJoR9Secu_i5"
   },
   "source": [
    "**Задание 2** (0.5 балла) <br/>\n",
    "Визуализируйте распределение возраста (вы можете использовать гистограммы, к примеру). \n",
    "\n",
    "    * Какие максимальный и минимальный возраста пассажиров? Визуализируйте их на графике\n",
    "    * Какой среддний возраст? Также по мужчинам и женщинам в отдельности? Визуализируйте на графике\n",
    "    * Сделайте выводы по графику, который у вас получился"
   ]
  },
  {
   "cell_type": "code",
   "execution_count": 70,
   "metadata": {
    "id": "aEjlHQQlu_i5"
   },
   "outputs": [
    {
     "data": {
      "image/png": "[encoded data removed]",
      "text/plain": [
       "<Figure size 432x288 with 1 Axes>"
      ]
     },
     "metadata": {
      "needs_background": "light"
     },
     "output_type": "display_data"
    }
   ],
   "source": [
    "plt.hist(dataset['age'], bins=25)\n",
    "plt.xlabel('age')\n",
    "plt.ylabel('count')\n",
    "plt.show()"
   ]
  },
  {
   "cell_type": "code",
   "execution_count": 71,
   "metadata": {},
   "outputs": [
    {
     "name": "stdout",
     "output_type": "stream",
     "text": [
      "Максимальный возраст: 80.00\n",
      "Минимальный возраст: 0.42\n"
     ]
    }
   ],
   "source": [
    "max_age = dataset['age'].max()\n",
    "min_age = dataset['age'].min()\n",
    "\n",
    "print(\"Максимальный возраст: {:.2f}\".format(max_age))\n",
    "print(\"Минимальный возраст: {:.2f}\".format(min_age))"
   ]
  },
  {
   "cell_type": "code",
   "execution_count": 72,
   "metadata": {},
   "outputs": [
    {
     "name": "stdout",
     "output_type": "stream",
     "text": [
      "Средний возраст: 29.70\n"
     ]
    }
   ],
   "source": [
    "mean_age = dataset['age'].mean()\n",
    "print(\"Средний возраст: {:.2f}\".format(mean_age))"
   ]
  },
  {
   "cell_type": "code",
   "execution_count": 73,
   "metadata": {},
   "outputs": [
    {
     "name": "stdout",
     "output_type": "stream",
     "text": [
      "sex\n",
      "female    27.915709\n",
      "male      30.726645\n",
      "Name: age, dtype: float64\n"
     ]
    }
   ],
   "source": [
    "mean_age_by_sex = dataset.groupby('sex')['age'].mean()\n",
    "print(mean_age_by_sex)"
   ]
  },
  {
   "cell_type": "code",
   "execution_count": 74,
   "metadata": {},
   "outputs": [
    {
     "data": {
      "image/png": "[encoded data removed]",
      "text/plain": [
       "<Figure size 720x360 with 1 Axes>"
      ]
     },
     "metadata": {
      "needs_background": "light"
     },
     "output_type": "display_data"
    }
   ],
   "source": [
    "plt.figure(figsize=(10, 5))\n",
    "\n",
    "plt.hist(dataset['age'], bins=25, alpha=0.5, label='overall')\n",
    "\n",
    "plt.axvline(max_age, color='red', linestyle='dashed', linewidth=2, label='max age')\n",
    "plt.axvline(min_age, color='green', linestyle='dashed', linewidth=2, label='min age')\n",
    "\n",
    "plt.axvline(mean_age_by_sex['male'], color='blue', linestyle='dashed', linewidth=2, label='male mean age')\n",
    "plt.axvline(mean_age_by_sex['female'], color='orange', linestyle='dashed', linewidth=2, label='female mean age')\n",
    "\n",
    "plt.legend()\n",
    "plt.xlabel('age')\n",
    "plt.ylabel('count')\n",
    "plt.show()"
   ]
  },
  {
   "cell_type": "markdown",
   "metadata": {},
   "source": [
    "Исходя из графика можем заметить, что женщины были в среднем младше мужчин на 2-3 года и большинство пассажиров были в возрасте от 17~ лет до 31~ года"
   ]
  },
  {
   "cell_type": "markdown",
   "metadata": {},
   "source": [
    "**Распределение мужчин и женщин по возрастам**"
   ]
  },
  {
   "cell_type": "code",
   "execution_count": 75,
   "metadata": {},
   "outputs": [
    {
     "data": {
      "image/png": "[encoded data removed]",
      "text/plain": [
       "<Figure size 432x288 with 1 Axes>"
      ]
     },
     "metadata": {
      "needs_background": "light"
     },
     "output_type": "display_data"
    }
   ],
   "source": [
    "male_ds = dataset[dataset['sex'] == 'male']\n",
    "female_ds = dataset[dataset['sex'] == 'female']\n",
    "\n",
    "plt.hist(male_ds['age'], bins=25, alpha=0.5, label='male')\n",
    "\n",
    "plt.hist(female_ds['age'], bins=25, alpha=0.5, label='female')\n",
    "\n",
    "plt.xlabel('Age')\n",
    "plt.ylabel('Count')\n",
    "plt.legend()\n",
    "\n",
    "plt.show()"
   ]
  },
  {
   "cell_type": "markdown",
   "metadata": {
    "id": "ZpS0m8zXu_i5"
   },
   "source": [
    "**Задание 3** (1 балла) <br/>\n",
    "Найдите все титулы пассажиров (например, *Capt., Mr.,Mme.*), которые записаны в колонке Name, и ответьте на следующие вопросы:\n",
    "\n",
    "    * Сколько всего уникальных титулов?\n",
    "    * Сколько всего пассажиров по каждому титулу??\n",
    "    * Какой наиболее популярный титул у мужчин? У женщин?\n",
    "    \n",
    "**Подсказка** Вы можете извлечь титул из имени, так как это слово, которое содержит точку."
   ]
  },
  {
   "cell_type": "code",
   "execution_count": 76,
   "metadata": {
    "id": "RS_PH70Xu_i5"
   },
   "outputs": [
    {
     "name": "stdout",
     "output_type": "stream",
     "text": [
      "Количество уникальных титулов: 17\n",
      "\n",
      "Количетсво пассажиров по каждому титулу : \n",
      "title\n",
      "Capt              1\n",
      "Col               2\n",
      "Don               1\n",
      "Dr                7\n",
      "Jonkheer          1\n",
      "Lady              1\n",
      "Major             2\n",
      "Master           40\n",
      "Miss            182\n",
      "Mlle              2\n",
      "Mme               1\n",
      "Mr              517\n",
      "Mrs             125\n",
      "Ms                1\n",
      "Rev               6\n",
      "Sir               1\n",
      "the Countess      1\n",
      "Name: name, dtype: int64\n",
      "\n",
      "Наиболее популярный титул у мужчин: Mr\n",
      "Наиболее популярный титул у женщин: Miss\n"
     ]
    }
   ],
   "source": [
    "dataset['title'] = dataset['name'].str.split(', ').str[1].str.split('.').str[0]\n",
    "\n",
    "unique_titles = dataset['title'].nunique()\n",
    "print(f\"Количество уникальных титулов: {unique_titles}\\n\")\n",
    "\n",
    "passengers_per_title = dataset.groupby('title')['name'].count()\n",
    "print(f\"Количетсво пассажиров по каждому титулу : \\n{passengers_per_title}\\n\")\n",
    "\n",
    "male_titles = dataset[dataset['sex'] == 'male'].groupby('title')['name'].count()\n",
    "most_popular_male_title = male_titles.idxmax()\n",
    "print(f\"Наиболее популярный титул у мужчин: {most_popular_male_title}\")\n",
    "\n",
    "female_titles = dataset[dataset['sex'] == 'female'].groupby('title')['name'].count()\n",
    "most_popular_female_title = female_titles.idxmax()\n",
    "print(f\"Наиболее популярный титул у женщин: {most_popular_female_title}\")"
   ]
  },
  {
   "cell_type": "markdown",
   "metadata": {
    "id": "Y3JTpdobu_i5"
   },
   "source": [
    "**Задание 4** (0.5 балла) <br/>\n",
    "Присутствует ли корреляция между *pclass* и *ticket price*? Посчитайте среднюю цену для каждого порта и визуализируйте распределение цен по каждому порту. Сделайие выводы по графику\n",
    "\n",
    "Подсказка: вы можете сделать разные типы графиков, такие как box, violine, pair, histogram. Обоснуйте выбор графиков и сделайте значимые выводы\n",
    "\n"
   ]
  },
  {
   "cell_type": "code",
   "execution_count": 77,
   "metadata": {
    "id": "xatx39xOu_i5"
   },
   "outputs": [
    {
     "name": "stdout",
     "output_type": "stream",
     "text": [
      "-0.5494996199439078\n"
     ]
    }
   ],
   "source": [
    "corr_ratio = dataset['pclass'].corr(dataset['fare'])\n",
    "print(corr_ratio)"
   ]
  },
  {
   "cell_type": "markdown",
   "metadata": {},
   "source": [
    "Коэффициент корреляции Пирсона ~ -0.55, это значит что в данном случае присутствует отрицательная корреляция - чем выше значение переменоой Pclass(1, 2, 3 классы), тем ниже значение переменной Fare(цены билета)"
   ]
  },
  {
   "cell_type": "markdown",
   "metadata": {},
   "source": [
    "Средняя цена по портам:"
   ]
  },
  {
   "cell_type": "code",
   "execution_count": 79,
   "metadata": {},
   "outputs": [
    {
     "name": "stdout",
     "output_type": "stream",
     "text": [
      "embarked\n",
      "C    59.954144\n",
      "Q    13.276030\n",
      "S    27.079812\n",
      "Name: fare, dtype: float64\n"
     ]
    }
   ],
   "source": [
    "mean_fare = dataset.groupby('embarked')['fare'].mean()\n",
    "print(mean_fare)"
   ]
  },
  {
   "cell_type": "markdown",
   "metadata": {},
   "source": [
    "Чтобы не мучаться и не строить на одном гарфике отдельные гистограммы для цен на билеты в каждом порту с помощью Pyplot, воспользуемся возможностями Seaborn"
   ]
  },
  {
   "cell_type": "code",
   "execution_count": 80,
   "metadata": {},
   "outputs": [
    {
     "data": {
      "image/png": "[encoded data removed]",
      "text/plain": [
       "<Figure size 418.125x360 with 1 Axes>"
      ]
     },
     "metadata": {
      "needs_background": "light"
     },
     "output_type": "display_data"
    }
   ],
   "source": [
    "sns.displot(data=dataset, x=\"fare\", hue=\"embarked\", kde=False, bins=25)\n",
    "plt.title(\"Распределение цен на билеты по портам\")\n",
    "plt.show()"
   ]
  },
  {
   "cell_type": "code",
   "execution_count": 81,
   "metadata": {},
   "outputs": [
    {
     "data": {
      "text/plain": [
       "<AxesSubplot:xlabel='embarked', ylabel='fare'>"
      ]
     },
     "execution_count": 81,
     "metadata": {},
     "output_type": "execute_result"
    },
    {
     "data": {
      "image/png": "[encoded data removed]",
      "text/plain": [
       "<Figure size 432x288 with 1 Axes>"
      ]
     },
     "metadata": {
      "needs_background": "light"
     },
     "output_type": "display_data"
    }
   ],
   "source": [
    "sns.boxplot(x='embarked', y='fare', data=dataset)"
   ]
  },
  {
   "cell_type": "markdown",
   "metadata": {},
   "source": [
    "**Выводы:**\n",
    "* Распределение цен билетов для порта Cherbourg имеет самый широкий размах, значит в этом порту вероятно было не мало разнообразных по классу пассажиров\n",
    "* Пассажиры, купившие билет в порту Queenstown, в среднем заплатили за билеты меньше\n",
    "* Средняя цена билетов самая высокая в порту Cherbourg, скорее всего большинство богачей отбывали именно из этого порта\n",
    "* Из-за выбросов в порте Cherbourg, можно сделать вывод, что оттуда отбыло некоторое количество очень богатых или важных(с точки зрения социального статуса) пассажиров"
   ]
  },
  {
   "cell_type": "code",
   "execution_count": 82,
   "metadata": {},
   "outputs": [
    {
     "data": {
      "text/plain": [
       "<AxesSubplot:xlabel='pclass', ylabel='fare'>"
      ]
     },
     "execution_count": 82,
     "metadata": {},
     "output_type": "execute_result"
    },
    {
     "data": {
      "image/png": "[encoded data removed]",
      "text/plain": [
       "<Figure size 432x288 with 1 Axes>"
      ]
     },
     "metadata": {
      "needs_background": "light"
     },
     "output_type": "display_data"
    }
   ],
   "source": [
    "sns.boxplot(x='pclass', y='fare', data=dataset)"
   ]
  },
  {
   "cell_type": "markdown",
   "metadata": {},
   "source": [
    "Из данного графика можем сделать вывод, что самый большой разброс цен был в первом классе, там же были самые значительные выбросы, самое маленькое распределение цен в 3 классе, там билеты разных типов отличались друг от друга не сильно."
   ]
  },
  {
   "cell_type": "markdown",
   "metadata": {
    "id": "t_Noc9_5u_i5"
   },
   "source": [
    "**Задание 5** (0.5 балла) <br/>\n",
    "Такие же вопросы, как и в задании 4, но про корреляцию между *embarked* и *ticket priсe*."
   ]
  },
  {
   "cell_type": "markdown",
   "metadata": {},
   "source": [
    "Построим график рассеяния:"
   ]
  },
  {
   "cell_type": "code",
   "execution_count": 83,
   "metadata": {
    "id": "-_x-Hemqu_i5"
   },
   "outputs": [
    {
     "data": {
      "image/png": "[encoded data removed]",
      "text/plain": [
       "<Figure size 432x288 with 1 Axes>"
      ]
     },
     "metadata": {
      "needs_background": "light"
     },
     "output_type": "display_data"
    }
   ],
   "source": [
    "sns.scatterplot(data=dataset, x='embarked', y='fare')\n",
    "plt.show()"
   ]
  },
  {
   "cell_type": "markdown",
   "metadata": {},
   "source": [
    "Цена билета сильно варьируется от порта посадки. В среднем цены на билеты ниже в порте Queenstown, однако исходя из графика мы не можем сделать явных выводов о городах Cherbourg и Southampton, кроме этого в порте Cherbourg есть выбросы, которые могут повлиять на коэффициент корреляции"
   ]
  },
  {
   "cell_type": "code",
   "execution_count": 84,
   "metadata": {},
   "outputs": [
    {
     "data": {
      "text/plain": [
       "<AxesSubplot:xlabel='embarked', ylabel='fare'>"
      ]
     },
     "execution_count": 84,
     "metadata": {},
     "output_type": "execute_result"
    },
    {
     "data": {
      "image/png": "[encoded data removed]",
      "text/plain": [
       "<Figure size 432x288 with 1 Axes>"
      ]
     },
     "metadata": {
      "needs_background": "light"
     },
     "output_type": "display_data"
    }
   ],
   "source": [
    "sns.boxplot(x='embarked', y='fare', data=dataset)"
   ]
  },
  {
   "cell_type": "markdown",
   "metadata": {},
   "source": [
    "Мы видим, что медианная цена билета самая высокая в порту Cherbourg. Для портов Queenstown и Southampton медианная цена билета примерно одинакова. На основании вышеуказанных графиков, мы можем сделать вывод, что явной корреляции здесь нет"
   ]
  },
  {
   "cell_type": "markdown",
   "metadata": {},
   "source": [
    "Можем пойти дальше, и расчиать p-value и коэффициент Пирсона для данного случая(что наверное является не лучшим решением, так как значения стобца embarked - города отправки, являются НЕчисленными данными), однако технически мы можем их заменить на значения скажем 1, 2, 3 и получить слабую положительную или слабую отрицательную корреляцию, которую подтвердит p-value около 0.05"
   ]
  },
  {
   "cell_type": "markdown",
   "metadata": {
    "id": "_BOVWuUzu_i5"
   },
   "source": [
    "**Задание 6** (0.5 балла) <br/>\n",
    "Визуализируйте распределение возарста для выживших и погибших пассажиров по отдельности, посчитайте средний возраст по выжившим и погибшим. Отличаются ли они? Постройте визуализацию для мужчин и женщин по отдельности. Сделайте выводы о том, что вы видите на графиках"
   ]
  },
  {
   "cell_type": "code",
   "execution_count": 85,
   "metadata": {
    "id": "3SWpSpR3u_i5"
   },
   "outputs": [
    {
     "data": {
      "image/png": "[encoded data removed]",
      "text/plain": [
       "<Figure size 720x288 with 2 Axes>"
      ]
     },
     "metadata": {
      "needs_background": "light"
     },
     "output_type": "display_data"
    }
   ],
   "source": [
    "survived = dataset.groupby('survived').get_group(1)\n",
    "died = dataset.groupby('survived').get_group(0)\n",
    "\n",
    "fig, axs = plt.subplots(1, 2, figsize=(10, 4))\n",
    "\n",
    "axs[0].hist(survived['age'].dropna(), bins=20)\n",
    "axs[0].set_title('Survived')\n",
    "axs[0].set_xlabel('Age')\n",
    "axs[0].set_ylabel('Count')\n",
    "\n",
    "axs[1].hist(died['age'].dropna(), bins=20)\n",
    "axs[1].set_title('Died')\n",
    "axs[1].set_xlabel('Age')\n",
    "axs[1].set_ylabel('Count')\n",
    "\n",
    "plt.show()"
   ]
  },
  {
   "cell_type": "code",
   "execution_count": 86,
   "metadata": {},
   "outputs": [
    {
     "name": "stdout",
     "output_type": "stream",
     "text": [
      "Средний возраст выживших:28.34\n",
      "Средний возраст погибших:30.63\n"
     ]
    }
   ],
   "source": [
    "mean_age_survived = survived['age'].mean()\n",
    "mean_age_died = died['age'].mean()\n",
    "print(\"Средний возраст выживших:{:.2f}\".format(mean_age_survived))\n",
    "print(\"Средний возраст погибших:{:.2f}\".format(mean_age_died))"
   ]
  },
  {
   "cell_type": "code",
   "execution_count": 91,
   "metadata": {},
   "outputs": [
    {
     "data": {
      "image/png": "[encoded data removed]",
      "text/plain": [
       "<Figure size 432x288 with 1 Axes>"
      ]
     },
     "metadata": {
      "needs_background": "light"
     },
     "output_type": "display_data"
    },
    {
     "data": {
      "image/png": "[encoded data removed]",
      "text/plain": [
       "<Figure size 432x288 with 1 Axes>"
      ]
     },
     "metadata": {
      "needs_background": "light"
     },
     "output_type": "display_data"
    }
   ],
   "source": [
    "survived_df = dataset[dataset['survived'] == 1]\n",
    "not_survived_df = dataset[dataset['survived'] == 0]\n",
    "\n",
    "sns.distplot(survived_df[survived_df['sex'] == 'male']['age'].dropna(), kde=False, label='male')\n",
    "sns.distplot(survived_df[survived_df['sex'] == 'female']['age'].dropna(), kde=False, label='female')\n",
    "plt.legend()\n",
    "plt.title('Survived')\n",
    "plt.show()\n",
    "\n",
    "sns.distplot(not_survived_df[not_survived_df['sex'] == 'male']['age'].dropna(), kde=False, label='male')\n",
    "sns.distplot(not_survived_df[not_survived_df['sex'] == 'female']['age'].dropna(), kde=False, label='female')\n",
    "plt.legend()\n",
    "plt.title('Died')\n",
    "plt.show()"
   ]
  },
  {
   "cell_type": "markdown",
   "metadata": {},
   "source": [
    "Распределение возраста выживших и погибших пассажиров различается в зависимости от пола. \n",
    "\n",
    "В обоих случаях видно, что среди женщин было больше выживших чем погибших. Среди мужчин погибших было больше чем выживших.\n",
    "\n",
    "Для погибших мужчин распределение более симметрично, чем для выживших. У погибших женщин распределение более равномерное и присутствует выраженный пик возраста."
   ]
  }
 ],
 "metadata": {
  "colab": {
   "provenance": []
  },
  "kernelspec": {
   "display_name": "Python 3 (ipykernel)",
   "language": "python",
   "name": "python3"
  },
  "language_info": {
   "codemirror_mode": {
    "name": "ipython",
    "version": 3
   },
   "file_extension": ".py",
   "mimetype": "text/x-python",
   "name": "python",
   "nbconvert_exporter": "python",
   "pygments_lexer": "ipython3",
   "version": "3.9.12"
  }
 },
 "nbformat": 4,
 "nbformat_minor": 1
}
